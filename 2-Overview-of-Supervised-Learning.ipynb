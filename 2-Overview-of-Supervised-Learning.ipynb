{
 "cells": [
  {
   "cell_type": "markdown",
   "metadata": {},
   "source": [
    "# $\\S$ Supervised Learning"
   ]
  },
  {
   "cell_type": "markdown",
   "metadata": {},
   "source": [
    "# $\\S$ 2.3. Two Simple Approaches to Prediction: Least Squares and Nearest Neighbors\n",
    "\n",
    "In this section we develop two simple but powerful prediction methods: The linear model fit by least squares and the $k$-nearest-neighbor (kNN) prediction rule.\n",
    "\n",
    "The linear model makes huge assumptions about structure and yields stable but possibly inaccurate predictions. The method of kNN makes very mild structural assumptions: Its predictions are often accurate but can be unstable."
   ]
  },
  {
   "cell_type": "markdown",
   "metadata": {},
   "source": [
    "## $\\S$ 2.3.3 From Least Squares to Nearest Neighbors\n",
    "\n",
    "The linear decision boundary from least squares is very smooth, and apparently stable to fit. It does appear to rely heavily on the assumption that a linear decision boundary is appropriate. In language we will develop shortly, it has low variance and potentially high bias.\n",
    "\n",
    "On the other hand, the $k$-nearest-neighbor procedures do not appear to rely on any stringent assumptions about the underlying data, and can adapt to any situation. However, any particular subregion of the decision boundary depends on a handful of input points and their particular positions, and is thus wiggly and unstable—high variance and low bias.\n",
    "\n",
    "Let's expose the oracle first! The data is generated with following steps:\n",
    "1. Generate 10 means $m_k$ from a bivariate Gaussian for each class  \n",
    "\n",
    "  \\begin{equation}\n",
    "  m_k \\sim \\begin{cases}\n",
    "  N((1,0)^T, \\mathbf{I}) & \\text{ for BLUE}, \\\\\n",
    "  N((0,1)^T, \\mathbf{I}) & \\text{ for ORANGE}\n",
    "  \\end{cases}\n",
    "  \\end{equation}\n",
    "  \n",
    "2. For each class, we generate 100 observations as follows:\n",
    "  1. Pick an $m_k$ at random with probability 1/10\n",
    "  2. Generate $x_i \\sim N(m_k, \\mathbf{I}/5)$\n"
   ]
  },
  {
   "cell_type": "code",
   "execution_count": 1,
   "metadata": {},
   "outputs": [],
   "source": [
    "%matplotlib inline\n",
    "import random\n",
    "import numpy as np\n",
    "import matplotlib.pyplot as plt"
   ]
  },
  {
   "cell_type": "code",
   "execution_count": 5,
   "metadata": {},
   "outputs": [
    {
     "data": {
      "text/plain": [
       "array([[1., 0.],\n",
       "       [0., 1.]])"
      ]
     },
     "execution_count": 5,
     "metadata": {},
     "output_type": "execute_result"
    }
   ],
   "source": [
    "np.eye(2)"
   ]
  },
  {
   "cell_type": "code",
   "execution_count": 2,
   "metadata": {},
   "outputs": [],
   "source": [
    "# define a function generate_data(sample_size)\n",
    "def generate_data(sample_size:int)->tuple:\n",
    "    # Parameters for mean distributions\n",
    "    mean_blue = [1, 0]\n",
    "    mean_orange = [0, 1]\n",
    "    mean_cov = np.eye(2)\n",
    "    mean_size = 10\n",
    "    \n",
    "    # Additional parameters for blue and orange distributions\n",
    "    sample_cov = np.eye(2)/5\n",
    "    \n",
    "    # Generate mean components for blue and orange (10 means for each)\n",
    "    sample_blue_mean = np.random.multivariate_normal(mean_blue, mean_cov, mean_size)\n",
    "    sample_orange_mean = np.random.multivariate_normal(mean_orange, mean_cov, mean_size)\n",
    "    \n",
    "    # Generate (n=sample_size) blue points\n",
    "    sample_blue = np.array([\n",
    "        np.random.multivariate_normal(sample_blue_mean[random.randint(0, 9)],\n",
    "                                      sample_cov)\n",
    "        for _ in range(sample_size)\n",
    "    ])\n",
    "    # Generate (n=sample_size) 0\n",
    "    y_blue = [0 for _ in range(sample_size)]\n",
    "\n",
    "    # Generate (n=sample_size) orange points\n",
    "    sample_orange = np.array([\n",
    "        np.random.multivariate_normal(sample_orange_mean[random.randint(0, 9)],\n",
    "                                      sample_cov)\n",
    "        for _ in range(sample_size)\n",
    "    ])\n",
    "    # Generate (n=sample_size) 1\n",
    "    y_orange = [1 for _ in range(sample_size)]\n",
    "\n",
    "    data_x = np.concatenate((sample_blue, sample_orange), axis=0)\n",
    "    data_y = np.concatenate((y_blue, y_orange))\n",
    "    return data_x, data_y"
   ]
  },
  {
   "cell_type": "code",
   "execution_count": 7,
   "metadata": {},
   "outputs": [
    {
     "data": {
      "text/plain": [
       "100"
      ]
     },
     "execution_count": 7,
     "metadata": {},
     "output_type": "execute_result"
    }
   ],
   "source": [
    "len(sample_blue)"
   ]
  },
  {
   "cell_type": "code",
   "execution_count": 10,
   "metadata": {},
   "outputs": [
    {
     "data": {
      "text/plain": [
       "200"
      ]
     },
     "execution_count": 10,
     "metadata": {},
     "output_type": "execute_result"
    }
   ],
   "source": [
    "len(data_x)"
   ]
  },
  {
   "cell_type": "code",
   "execution_count": 12,
   "metadata": {},
   "outputs": [
    {
     "data": {
      "text/plain": [
       "200"
      ]
     },
     "execution_count": 12,
     "metadata": {},
     "output_type": "execute_result"
    }
   ],
   "source": [
    "len(data_y)"
   ]
  },
  {
   "cell_type": "code",
   "execution_count": 3,
   "metadata": {},
   "outputs": [],
   "source": [
    "sample_size = 100\n",
    "data_x, data_y = generate_data(sample_size)\n",
    "sample_blue = data_x[data_y == 0, :]\n",
    "sample_orange = data_x[data_y == 1, :]"
   ]
  },
  {
   "cell_type": "code",
   "execution_count": 26,
   "metadata": {},
   "outputs": [
    {
     "data": {
      "image/png": "[encoded data removed]",
      "text/plain": [
       "<Figure size 1080x1080 with 1 Axes>"
      ]
     },
     "metadata": {
      "needs_background": "light"
     },
     "output_type": "display_data"
    }
   ],
   "source": [
    "# Plot\n",
    "fig = plt.figure(figsize=(15, 15))\n",
    "ax1 = fig.add_subplot(2, 2, 1)\n",
    "\n",
    "ax1.plot(sample_blue[:, 0], sample_blue[:, 1], 'o')\n",
    "ax1.plot(sample_orange[:, 0], sample_orange[:, 1], 'o', color='orange')\n",
    "ax1.set_title('0/1 Response')\n",
    "plt.show()\n",
    "\n",
    "plot_x_min, plot_x_max = ax1.get_xlim()\n",
    "plot_y_min, plot_y_max = ax1.get_ylim()"
   ]
  },
  {
   "cell_type": "markdown",
   "metadata": {},
   "source": [
    "## $\\S$ 2.3.1. Linear Models and Least Squares\n",
    "\n",
    "> The linear model has been a mainstay of statistics for the past 30 years and remains one of our most important tools.\n",
    "\n",
    "### Linear Models\n",
    "\n",
    "Given a vector of inputs $X^T = (X_1, \\cdots, X_p)$, we predict the output $Y$ via the model\n",
    "\n",
    "\\begin{equation}\n",
    "\\hat{Y} = \\hat{\\beta}_0 + \\sum^p_{j=1}X_j\\hat{\\beta}_j = X^T\\hat{\\beta}=\n",
    "\\begin{bmatrix}\n",
    "1&X_1&X_2&\\cdots&X_p\n",
    "\\end{bmatrix}\\begin{bmatrix}\n",
    "\\hat{\\beta}_0\\\\\n",
    "\\hat{\\beta}_1\\\\\n",
    "\\vdots\\\\\n",
    "\\hat{\\beta}_p\\\\\n",
    "\\end{bmatrix}\n",
    "\\end{equation}\n",
    "\n",
    "where the constant variable 1 in $X^T = (1, X_1, \\cdots, X_p)$ and $\\hat{\\beta}^T = (\\beta_0, \\beta_1, \\cdots, \\beta_p)$. The term $\\hat\\beta_0$ is the intercept, a.k.a. the _bias_ in machine learning.\n",
    "\n",
    "Here we are modeling a single output, so $\\hat{Y}$ is a scalar; in general $\\hat{Y}$ can be a $K$-vector, in which case $\\beta$ would be a $p \\times K$ matrix of coefficients.\n",
    "\n",
    "In the $(p+1)$-dimensional input-output space, $(X, \\hat{Y})$ represents a hyperplane. If the constant is included in $X$, then the hyperplane includes the origin and is a subspace; if not, is is an affine set cutting the $Y$-axis at the point $(0, \\hat\\beta_0)$. From now on we assume that the intercept is included in $\\hat\\beta$.\n",
    "\n",
    "Viewed as a function over the $p$-dimensional input space,\n",
    "\n",
    "\\begin{equation}\n",
    "f(X) = X^T\\beta\n",
    "\\end{equation}\n",
    "\n",
    "is linear, and the gradient $f'(X) = \\beta$ is a vector in input space that points in the steepest uphill direction."
   ]
  },
  {
   "cell_type": "markdown",
   "metadata": {},
   "source": [
    "### How to fit the model: Least squares\n",
    "\n",
    "Least squares pick the coefficients $\\beta$ to minimize the residual sum of squares\n",
    "\n",
    "\\begin{equation}\n",
    "RSS(\\beta) = \\sum^N_{i=1}(y_i - x_i^T\\beta)^2 = (\\mathbf{y} - \\mathbf{X}\\beta)^T(\\mathbf{y} - \\mathbf{X}\\beta)\\\\\n",
    "=(\\mathbf{y}^T - \\beta^T\\mathbf{X}^T)(\\mathbf{y} - \\mathbf{X}\\beta)\\\\\n",
    "=\\mathbf{y}^T\\mathbf{y}-\\mathbf{y}^T\\mathbf{X}\\beta-\\beta^T\\mathbf{X}^T\\mathbf{y}+\\beta^T\\mathbf{X}^T\\mathbf{X}\\beta,\n",
    "\\end{equation}\n",
    "\n",
    "since $\\mathbf{y}^T\\mathbf{X}\\beta$ is a scalar quantity, thus $\\mathbf{y}^T\\mathbf{X}\\beta = (\\mathbf{y}^T\\mathbf{X}\\beta)^T=\\beta^T\\mathbf{X}^T\\mathbf{y}$ Then \n",
    "\n",
    "\\begin{equation}\n",
    "RSS(\\beta) = \\mathbf{y}^T\\mathbf{y}-\\beta^T\\mathbf{X}^T\\mathbf{y}-\\beta^T\\mathbf{X}^T\\mathbf{y}+\\beta^T\\mathbf{X}^T\\mathbf{X}\\beta\\\\\n",
    "= \\mathbf{y}^T\\mathbf{y}-2\\beta^T\\mathbf{X}^T\\mathbf{y}+\\beta^T\\mathbf{X}^T\\mathbf{X}\\beta\n",
    "\\end{equation}\n",
    "\n",
    "where $\\mathbf{X}$ is an $N \\times p$ matrix with each row an input vector, and $\\mathbf{y}$ is an $N$-vector of outputs in the training set.\n",
    "\n",
    "$RSS(\\beta)$ is a quadratic function of the parameters, and hence its minimum always exists, but may not be unique.\n",
    "\n",
    "Differentiating w.r.t. $\\beta$ we get the *normal equations*\n",
    "\n",
    "\\begin{equation}\n",
    "\\frac{\\partial{RSS}}{\\partial{\\beta}}=-2\\mathbf{X}^T\\mathbf{y}+2\\mathbf{X}^T\\mathbf{X}\\beta\n",
    "\\end{equation}\n",
    "\n",
    "\n",
    "\\begin{equation}\n",
    "\\mathbf{X}^T(\\mathbf{y} - \\mathbf{X}\\beta) = 0.\n",
    "\\end{equation}\n",
    "\n",
    "If $\\mathbf{X}^T \\mathbf{X}$ is nonsingular, then the unique solution is given by\n",
    "\n",
    "\\begin{equation}\n",
    "\\hat{\\beta} = (\\mathbf{X}^T\\mathbf{X})^{-1}\\mathbf{X}^T\\mathbf{y},\n",
    "\\end{equation}\n",
    "\n",
    "and the *fitted value* at the $i$th input $x_i$ is \n",
    "\n",
    "\\begin{equation}\n",
    "\\hat{y}_i = \\hat{y}(x_i) = x_i^T\\hat{\\beta}.\n",
    "\\end{equation}\n",
    "\n",
    "At an arbitrary input $x_0$ the prediction is\n",
    "\n",
    "\\begin{equation}\n",
    "\\hat{y}(x_0) = x_0^T \\hat\\beta.\n",
    "\\end{equation}\n",
    "\n",
    "The entire fitted surface is characterized by the $p$ parameters. Intuitively, it seems that we do not need a very large data set to fit such a model."
   ]
  },
  {
   "cell_type": "code",
   "execution_count": 8,
   "metadata": {},
   "outputs": [
    {
     "name": "stdout",
     "output_type": "stream",
     "text": [
      "=== Estimated Coefficients for OLS ===\n",
      "beta0: 0.4409182185615338 (constant)\n",
      "beta1: -0.09141131859617739\n",
      "beta2: 0.20146884857094918\n"
     ]
    }
   ],
   "source": [
    "# Linear regression\n",
    "mat_x = np.hstack((np.ones((sample_size*2, 1)), data_x))\n",
    "mat_xt = np.transpose(mat_x)\n",
    "vec_y = data_y\n",
    "\n",
    "# Solve (X^T*X)b = X^T*y for b\n",
    "ols_beta = np.linalg.solve(np.matmul(mat_xt, mat_x), np.matmul(mat_xt, vec_y))\n",
    "\n",
    "print('=== Estimated Coefficients for OLS ===')\n",
    "print('beta0:', ols_beta[0], '(constant)')\n",
    "print('beta1:', ols_beta[1])\n",
    "print('beta2:', ols_beta[2])"
   ]
  },
  {
   "cell_type": "code",
   "execution_count": 10,
   "metadata": {},
   "outputs": [
    {
     "data": {
      "text/plain": [
       "200"
      ]
     },
     "execution_count": 10,
     "metadata": {},
     "output_type": "execute_result"
    }
   ],
   "source": [
    "len(mat_x)"
   ]
  },
  {
   "cell_type": "markdown",
   "metadata": {},
   "source": [
    "### Linear model in a classification context\n",
    "\n",
    "FIGURE 2.1 shows a scatterplot of training data on a pair of inputs $X_1$ and $X_2$.\n",
    "* The output class variable $G$ has the values $\\textsf{BLUE}$ or $\\textsf{ORANGE}$.\n",
    "* There are 100 points in each of the two classes.\n",
    "* The linear regression model was fit to these data, with the response $Y$ coded as $0$ for $\\textsf{BLUE}$ and $1$ for $\\textsf{ORANGE}$.\n",
    "\n",
    "The fitted value $\\hat{Y}$ are converted to a fitted class variable $\\hat{G}$ according to the rule\n",
    "\n",
    "\\begin{equation}\n",
    "\\hat{G} = \\begin{cases}\n",
    "1 & \\text{ (ORANGE) } & \\text{ if } \\hat{Y} \\gt 0.5,\\\\\n",
    "0 & \\text{ (BLUE) } & \\text{ if } \\hat{Y} \\le 0.5.\n",
    "\\end{cases}\n",
    "\\end{equation}\n",
    "\n",
    "And the two predicted classes are separated by the *decision boundary* $\\{x: x^T\\hat{\\beta} = 0.5\\}$, which in linear."
   ]
  },
  {
   "cell_type": "markdown",
   "metadata": {},
   "source": [
    "> The decision boundary is $\\hat{y}=0.5$ then\n",
    "$\\hat{y} = X^T\\hat{\\beta} =\n",
    "\\begin{bmatrix}\n",
    "1&x&y\\\\\n",
    "\\end{bmatrix}\\begin{bmatrix}\n",
    "\\hat{\\beta_0}\\\\\n",
    "\\hat{\\beta_1}\\\\\n",
    "\\hat{\\beta_2}\\\\\n",
    "\\end{bmatrix}= \\hat{\\beta_0} + \\hat{\\beta_1}x + \\hat{\\beta_2}y = 0.5$"
   ]
  },
  {
   "cell_type": "code",
   "execution_count": 27,
   "metadata": {},
   "outputs": [
    {
     "data": {
      "image/png": "[encoded data removed]",
      "text/plain": [
       "<Figure size 1080x1080 with 2 Axes>"
      ]
     },
     "execution_count": 27,
     "metadata": {},
     "output_type": "execute_result"
    }
   ],
   "source": [
    "\"\"\"FIGURE 2.1. A classification example in 2D.\"\"\"\n",
    "# Plot for OLS\n",
    "ax2 = fig.add_subplot(2, 2, 2)\n",
    "\n",
    "ax2.plot(sample_blue[:, 0], sample_blue[:, 1], 'o', color='C0')\n",
    "ax2.plot(sample_orange[:, 0], sample_orange[:, 1], 'o', color='orange')\n",
    "\n",
    "# OLS line for y_hat = X^T\\beta_hat = 0.5\n",
    "ols_line_y_min = (.5 - ols_beta[0] - plot_x_min*ols_beta[1])/ols_beta[2]\n",
    "ols_line_y_max = (.5 - ols_beta[0] - plot_x_max*ols_beta[1])/ols_beta[2]\n",
    "ax2.plot([plot_x_min, plot_x_max], [ols_line_y_min, ols_line_y_max], color='black')\n",
    "\n",
    "# https://matplotlib.org/examples/pylab_examples/fill_between_demo.html\n",
    "ax2.fill_between([plot_x_min, plot_x_max], plot_y_min, [ols_line_y_min, ols_line_y_max],\n",
    "                facecolor='blue', alpha=.2)\n",
    "ax2.fill_between([plot_x_min, plot_x_max], [ols_line_y_min, ols_line_y_max], plot_y_max,\n",
    "                facecolor='orange', alpha=.2)\n",
    "ax2.set_title('Linear Regression of 0/1 Response')\n",
    "ax2.set_xlim((plot_x_min, plot_x_max))\n",
    "ax2.set_ylim((plot_y_min, plot_y_max))\n",
    "fig"
   ]
  },
  {
   "cell_type": "code",
   "execution_count": 13,
   "metadata": {},
   "outputs": [
    {
     "data": {
      "text/plain": [
       "-0.6629370145399807"
      ]
     },
     "execution_count": 13,
     "metadata": {},
     "output_type": "execute_result"
    }
   ],
   "source": [
    "ols_line_y_min"
   ]
  },
  {
   "cell_type": "code",
   "execution_count": 14,
   "metadata": {},
   "outputs": [
    {
     "data": {
      "text/plain": [
       "2.321034034948018"
      ]
     },
     "execution_count": 14,
     "metadata": {},
     "output_type": "execute_result"
    }
   ],
   "source": [
    "ols_line_y_max"
   ]
  },
  {
   "cell_type": "markdown",
   "metadata": {},
   "source": [
    "### Where the data came from?\n",
    "\n",
    "We see that for these data there are several misclassifications on both sides of the decision boundary. Perhaps our linear model is too rigid -- or are such errors unavoidable? Remember that these are errors on the training data itself, and we have not said where the constructed came from (although this notebook already exposed the oracle). Consider the two possible scenarios:\n",
    "* $\\text{Scenario 1}$: The training data in each class were generated from bivariate Gaussian distributions with uncorrelated components and different means.\n",
    "* $\\text{Scenario 2}$: The training data in each class came from a mixture of 10 low-variance Gaussian distributions, with individual means themselves distributed as Gaussian.\n",
    "\n",
    "A mixture of Gaussians is best described in terms of the generative model.\n",
    "* One first generates a discrete variable that determines which of the component Gaussians to use,\n",
    "* and then generates an observation from the chosen density.\n",
    "\n",
    "In the case of one Gaussian per class, we will see in Chapter 4 that a linear decision boundary is the best one can do, and that our estimate is almost optimal. The region of overlap is inevitable, and future data to be predicted will be plagued by this overlap as well."
   ]
  },
  {
   "cell_type": "markdown",
   "metadata": {},
   "source": [
    "## $\\S$ 2.3.2 Nearest-Neighbor Methods\n",
    "\n",
    "Now we look at another classification and regression procedure that is in some sense at the opposite end of the spectrum to the linear model, and far better suited to the second scenario.\n",
    "\n",
    "> Nearest-neighbor methods use those observations in the training set $\\mathcal{T}$ closest in input space to $x$ to form $\\hat{Y}$.\n",
    "\n",
    "The kNN fit for $\\hat{Y}$ is defined as follows:\n",
    "\n",
    "\\begin{equation}\n",
    "\\hat{Y}(x) = \\frac{1}{k}\\sum_{x_i\\in N_k(x)} y_i,\n",
    "\\end{equation}\n",
    "\n",
    "where $N_k(x)$ is the neighborhood of $x$ defined by the $k$ closest points $x_i$ in the training sample. Closeness implies a metric, which for the moment we assume is Euclidean distance.\n",
    "\n",
    "> So, in other words, we find the $k$ observations with $x_i$ closest to $x$ in input space, and average their responses.\n",
    "\n",
    "In FIGURE 2.2 we use the same training data, and use 15NN averaging of the binary coded response as the method of fitting. Thus $\\hat{Y}$ is the proportion of $\\textsf{ORANGE}$s in the neighborhood, and so assigning class $\\text{ORANGE}$ to $\\hat{G}$ if $\\hat{Y} > 0.5$ amounts to a majority vote in the neighborhood.\n",
    "\n",
    "We see that the decision boundaries that separate the $\\textsf{BLUE}$ from the $\\textsf{ORANGE}$ regions are far more irregular, and respond to local clusters where one class dominates."
   ]
  },
  {
   "cell_type": "code",
   "execution_count": 4,
   "metadata": {},
   "outputs": [],
   "source": [
    "# K-nearest neighbors\n",
    "def knn(k: int, point, data_x, data_y) -> float:\n",
    "    if not isinstance(point, np.ndarray):\n",
    "        point = np.array(point)\n",
    "    distances = [(sum((x - point)**2), y) for x, y in zip(data_x, data_y)]\n",
    "    distances.sort()\n",
    "    return sum(y for _, y in distances[:k])/k"
   ]
  },
  {
   "cell_type": "code",
   "execution_count": 28,
   "metadata": {},
   "outputs": [
    {
     "data": {
      "image/png": "[encoded data removed]",
      "text/plain": [
       "<Figure size 1080x1080 with 3 Axes>"
      ]
     },
     "execution_count": 28,
     "metadata": {},
     "output_type": "execute_result"
    }
   ],
   "source": [
    "\"\"\"FIGURE 2.2. 15-nearest-neighbor method\"\"\"\n",
    "# Compute KNN for k = 15\n",
    "knn_grid = np.array([(i, j)\n",
    "                     for i in np.arange(plot_x_min, plot_x_max, .1)\n",
    "                     for j in np.arange(plot_y_min, plot_y_max, .1)])\n",
    "\n",
    "# knn15_result contains the x coordinate，y coordinate of point(x,y) and knn value\n",
    "knn15_result = np.array([\n",
    "    (i, j, knn(15, (i, j), data_x, vec_y))\n",
    "    for i, j in knn_grid\n",
    "])\n",
    "\n",
    "# Plot for KNN with k = 15\n",
    "\n",
    "knn15_blue = np.array([\n",
    "    (i, j)\n",
    "    for i, j, knn15 in knn15_result\n",
    "    if knn15 < .5\n",
    "])\n",
    "knn15_orange = np.array([\n",
    "    (i, j)\n",
    "    for i, j, knn15 in knn15_result\n",
    "    if knn15 > .5\n",
    "])\n",
    "ax3 = fig.add_subplot(2, 2, 3)\n",
    "# KNN areas\n",
    "ax3.plot(knn15_blue[:, 0], knn15_blue[:, 1], 'o', alpha=.2)\n",
    "ax3.plot(knn15_orange[:, 0], knn15_orange[:, 1], 'o', color='orange', alpha=.2)\n",
    "# Original data\n",
    "ax3.plot(sample_blue[:, 0], sample_blue[:, 1], 'o', color='C0')\n",
    "ax3.plot(sample_orange[:, 0], sample_orange[:, 1], 'o', color='orange')\n",
    "ax3.set_title('15-Nearest Neighbor Classifier')\n",
    "fig"
   ]
  },
  {
   "cell_type": "code",
   "execution_count": 21,
   "metadata": {},
   "outputs": [
    {
     "data": {
      "text/plain": [
       "array([[-2.10742982, -2.75163406],\n",
       "       [-2.10742982, -2.65163406],\n",
       "       [-2.10742982, -2.55163406],\n",
       "       ...,\n",
       "       [ 4.39257018,  3.34836594],\n",
       "       [ 4.39257018,  3.44836594],\n",
       "       [ 4.39257018,  3.54836594]])"
      ]
     },
     "execution_count": 21,
     "metadata": {},
     "output_type": "execute_result"
    }
   ],
   "source": [
    "knn_grid"
   ]
  },
  {
   "cell_type": "code",
   "execution_count": 22,
   "metadata": {},
   "outputs": [
    {
     "data": {
      "text/plain": [
       "array([[-2.10742982, -2.75163406,  0.33333333],\n",
       "       [-2.10742982, -2.65163406,  0.4       ],\n",
       "       [-2.10742982, -2.55163406,  0.4       ],\n",
       "       ...,\n",
       "       [ 4.39257018,  3.34836594,  0.46666667],\n",
       "       [ 4.39257018,  3.44836594,  0.53333333],\n",
       "       [ 4.39257018,  3.54836594,  0.53333333]])"
      ]
     },
     "execution_count": 22,
     "metadata": {},
     "output_type": "execute_result"
    }
   ],
   "source": [
    "knn15_result"
   ]
  },
  {
   "cell_type": "markdown",
   "metadata": {},
   "source": [
    "FIGURE 2.3 shows the results for 1NN classification: $\\hat{Y} is assigned the value $y_l$ of the closest point $x_l$ to $x$ in the training data. In this case the regions of classification can be computed relatively easily, and correspond to a _Voronoi tessellation_ of the training data. \n",
    "\n",
    "The decision boundary is even more irregular than before."
   ]
  },
  {
   "cell_type": "code",
   "execution_count": 29,
   "metadata": {},
   "outputs": [
    {
     "data": {
      "image/png": "[encoded data removed]",
      "text/plain": [
       "<Figure size 1080x1080 with 4 Axes>"
      ]
     },
     "execution_count": 29,
     "metadata": {},
     "output_type": "execute_result"
    }
   ],
   "source": [
    "\"\"\"FIGURE 2.3. 1-nearest-neighbor method\"\"\"\n",
    "# Compute KNN for k = 1\n",
    "knn1_result = np.array([\n",
    "    (i, j, knn(1, (i, j), data_x, vec_y))\n",
    "    for i, j in knn_grid\n",
    "])\n",
    "\n",
    "knn1_blue = np.array([\n",
    "    (i, j)\n",
    "    for i, j, knn1 in knn1_result\n",
    "    if knn1 < .5\n",
    "])\n",
    "knn1_orange = np.array([\n",
    "    (i, j)\n",
    "    for i, j, knn1 in knn1_result\n",
    "    if knn1 > .5\n",
    "])\n",
    "\n",
    "# Plot for KNN with k = 1\n",
    "ax4 = fig.add_subplot(2, 2, 4)\n",
    "# KNN areas\n",
    "ax4.plot(knn1_blue[:, 0], knn1_blue[:, 1], 'o', alpha=.2)\n",
    "ax4.plot(knn1_orange[:, 0], knn1_orange[:, 1], 'o', color='orange', alpha=.2)\n",
    "# Original data\n",
    "ax4.plot(sample_blue[:, 0], sample_blue[:, 1], 'o', color='C0')\n",
    "ax4.plot(sample_orange[:, 0], sample_orange[:, 1], 'o', color='orange')\n",
    "ax4.set_title('1-Nearest Neighbor Classifier')\n",
    "fig"
   ]
  },
  {
   "cell_type": "markdown",
   "metadata": {},
   "source": [
    "The method of kNN averaging is defined in exactly the same way for regression of a quantitative output $Y$, although $k=1$ would be an unlikely choice."
   ]
  },
  {
   "cell_type": "markdown",
   "metadata": {},
   "source": [
    "### Do not satisfy with the training results\n",
    "\n",
    "With 15NN, We see that far fewer training observations are misclassfied than the linear model fit. This should not give us too much comfort, though, since using 1NN  _none_ of the training data are misclassified.\n",
    "\n",
    "A little thought suggests that for kNN fits, the error on the training data should be approximately an increasing function of $k$, and will always be 0 for $k=1$.\n",
    "\n",
    "An independent test set would give us a more satisfactory means for comparing the different methods."
   ]
  },
  {
   "cell_type": "markdown",
   "metadata": {},
   "source": [
    "### Effective number of parameters\n",
    "\n",
    "It appears that kNN fits have a single parameter, the number of neighbors $k$, compared to the $p$ parameters in least-squares fit. Although this is the case, we will see that the _effective_ number of parameters of kNN is $N/k$ and is generally bigger than $p$, and decreases with increasing $k$.\n",
    "\n",
    "To get an idea of why, note that if the neighborhoods were nonoverlapping, there would be $N/k$ neighborhoods and we fit one parameter (a mean) in each neighborhood."
   ]
  },
  {
   "cell_type": "markdown",
   "metadata": {},
   "source": [
    "### Do not appreciate the training errors\n",
    "\n",
    "It is also clear that we cannot use sum-of-squared errors on the training set as a criterion for picking $k$, since we would always pick $k=1$! It would seem that kNN methods would be more appropriate for the mixture Scenario 2, while for Scenario 1 the decision boundaries for kNN would be unnecessarily noisy."
   ]
  },
  {
   "cell_type": "markdown",
   "metadata": {},
   "source": [
    "## $\\S$ 2.3.3. From Least Squares to Nearest Neighbors\n",
    "\n",
    "A large subset of the most popular techniques in use today are variants of these two simple procedures. In facti 1NN, the simplest of all, captures a large percentage of the market for low-dimensional problems.\n",
    "\n",
    "The following list describes some ways in which these simple procedures have been enhanced:\n",
    "* Kernel methods use weights that decrease smoothly to zero with distance from the target point, rather than the effectve 0/1 weights used by kNN.\n",
    "* In high-dimensional spaces the distance kernels are modified to emphasize some variable more than others.\n",
    "* Local regression fits linear models by locally weighted least squares, rather than fitting constants locally.\n",
    "* Linear models fit to a basis expansion of the original inputs allow arbitrarilly complex models.\n",
    "* Projection pursuit and neural network models consist of sums of nonlinearly transfromed linear models."
   ]
  },
  {
   "cell_type": "markdown",
   "metadata": {},
   "source": [
    "# $\\S$ 2.4. Statistical Decision Theory\n",
    "\n",
    "In this section we develop a small amount of theory that provides a framework for developing models. We first consider the case of a quantitative output, and place outselves in the world of random variables nad probability spaces."
   ]
  },
  {
   "cell_type": "markdown",
   "metadata": {},
   "source": [
    "### Definitions\n",
    "\n",
    "Let\n",
    "* $X\\in\\mathbb{R}^p$ denote a real valued random input vector, and\n",
    "* $Y\\in\\mathbb{R}$ a real valued random output variable,\n",
    "* with joint distribution $\\text{Pr}(X,Y)$.\n",
    "\n",
    "We seek a function $f(X)$ for predicting $Y$  given values of the input $X$.\n",
    "\n",
    "#### Loss\n",
    "This Theory requires a _loss function_ $L(Y, f(X))$ for penalizing errors in prediction, and by for the most common and convenient is _squared error loss_:\n",
    "\n",
    "\\begin{equation}\n",
    "L(Y, f(X)) = (Y-f(X))^2.\n",
    "\\end{equation}\n",
    "\n",
    "#### Expected prediction error\n",
    "This leads us to a criterion for choosing $f$ the expected (squared) prediction error:\n",
    "\n",
    "\\begin{align}\n",
    "\\text{EPE}(f) &= \\text{E}(Y-f(X))^2\\\\\n",
    "&= \\int\\left(y-f(x)\\right)^2\\text{Pr}(dx,dy)\\\\\n",
    "&= \\int\\left(y-f(x)\\right)^2p(x,y)dxdy\\\\\n",
    "&= \\int_x\\int_y\\left(y-f(x)\\right)^2p(x,y)dxdy\\\\\n",
    "&= \\int_x\\int_y\\left(y-f(x)\\right)^2p(y|x)p(x)dxdy\\\\\n",
    "&= \\int_x\\Biggl(\\int_y\\left(y-f(x)\\right)^2p(y|x)dy\\Biggr)p(x)dx\\\\\n",
    "&= \\int_x\\Biggl(E_{Y|X}([Y-f(X)]^2|X=x)\\Biggr)p(x)dx\\\\\n",
    "&= E_XE_{Y|X}([Y-f(X)]^2|X=x),\n",
    "\\end{align}\n",
    "\n",
    "By conditioning on $X$, we can write EPE as\n",
    "\n",
    "\\begin{equation}\n",
    "\\text{EPE}(f) = \\text{E}_X\\text{E}_{Y|X}\\left(\\left[Y-f(X)\\right]^2|X=x\\right)\n",
    "\\end{equation}\n",
    "\n",
    "and we see that it suffices to minimize EPE pointwise:\n",
    "\n",
    "\\begin{equation}\n",
    "f(x) = \\arg\\min_c\\text{E}_{Y|X}\\left(\\left[Y-c\\right]^2|X=x\\right)\n",
    "\\end{equation}\n",
    "\n",
    "Where $argmin$ is argument of the minimum. The simplest example is $argmin_xf(x)$ is the value of $x$ for which $f(x)$ attains it's minimum. \n",
    "\n",
    "Since \n",
    "\\begin{align}\n",
    "E(E(X|Y))&=\\int E(X|Y=y)f_Y(y)dy\\\\\n",
    "&=\\iint xf_{X|Y}(x|y)dxf_Y(y)dy\\\\\n",
    "&=\\iint xf_{X|Y}(x|y)f_Y(y)dxdy\\\\\n",
    "&=\\iint xf_{XY}(x,y)dxdy\\\\\n",
    "&=\\int x\\Bigl(\\int f_{XY}(x,y)dy\\Bigr)dx\\\\\n",
    "&=\\int xf_X(x)dx\\\\\n",
    "&=E(X)\n",
    "\\end{align}\n",
    "and then \n",
    "\\begin{align}\n",
    "E\\Bigl((Y-f(X))^2|X\\Bigr)&=E\\Biggl(\\Bigl([Y-E(Y|X)]+[E(Y|X)-f(X)]\\Bigr)^2|X\\Biggr)\\\\\n",
    "&=E\\Biggl(\\Bigl([Y-E(Y|X)]\\Bigr)^2|X\\Biggr)+E\\Biggl(\\Bigl([E(Y|X)-f(X)]\\Bigr)^2|X\\Biggr)+2E\\Biggl(\\Bigl([Y-E(Y|X)][E(Y|X)-f(X)]\\Bigr)|X\\Biggr)\\\\\n",
    "&=E\\Biggl(\\Bigl([Y-E(Y|X)]\\Bigr)^2|X\\Biggr)+E\\Biggl(\\Bigl([E(Y|X)-f(X)]\\Bigr)^2|X\\Biggr)+2\\Biggl(\\Bigl([E(Y|X)-f(X)]\\Bigr)E\\Bigl([Y-E(Y|X)]\\Bigr)|X\\Biggr)\\\\\n",
    "&(\\text{since } [E(Y|X)-f(X)] \\text{ is constant given } X)\\\\\n",
    "&\\text{and since }E\\Bigl([Y-E(Y|X)]\\Bigr)=E(Y)-E(E(Y|X))=E(Y)-E(Y)=0\\\\\n",
    "&=E\\Biggl(\\Bigl([Y-E(Y|X)]\\Bigr)^2|X\\Biggr)+E\\Biggl(\\Bigl([E(Y|X)-f(X)]\\Bigr)^2|X\\Biggr)\\\\\n",
    "&\\ge E\\Biggl(\\Bigl([Y-E(Y|X)]\\Bigr)^2|X\\Biggr)\n",
    "\\end{align}\n",
    "\n",
    "When $E(Y|X)-f(X)=0\\\\\n",
    "E\\Bigl((Y-f(X))^2|X\\Bigr)=E\\Biggl(\\Bigl([Y-E(Y|X)]\\Bigr)^2|X\\Biggr)$\n",
    "#### Regression function\n",
    "The solution is the conditional expectation a.k.a. the _regression_ function:\n",
    "\n",
    "\\begin{equation}\n",
    "f(x) = \\text{E}\\left(Y|X=x\\right)\n",
    "\\end{equation}\n",
    "\n",
    "> Thus the best prediction of $Y$ at any point $X=x$ is the conditional mean, when best is measured by average squared error."
   ]
  },
  {
   "cell_type": "markdown",
   "metadata": {},
   "source": [
    "### Conclusions first\n",
    "\n",
    "Both KNN and least squares will end up approximating conditional expectations by averages. But they differ dramatically in terms of model assumptions:\n",
    "* Least squares assumes $f(x)$ is well approximated by a globally linear function.\n",
    "* $k$-nearest neighbors assumes $f(x)$ is well approximated by a locally constant function.\n",
    "Although the latter seems more palatable, we will see below that we may pay a price for this flexibility."
   ]
  },
  {
   "cell_type": "markdown",
   "metadata": {},
   "source": [
    "### The light and shadows of kNN\n",
    "\n",
    "The kNN attempts to directly implement this recipe using the training data:\n",
    "\n",
    "\\begin{equation}\n",
    "\\hat{f}(x) = \\text{Ave}\\left(y_i|x_i\\in N_k(x)\\right),\n",
    "\\end{equation}\n",
    "\n",
    "where\n",
    "* \"$\\text{Ave}$\" denotes average, and\n",
    "* $N_k(x)$ is the neighborhood containing the $k$ points in $\\mathcal{T}$ closest to $x$.\n",
    "\n",
    "Two approximations are happening here:\n",
    "* Expectation is approximated by averaging over sample data;\n",
    "* conditioning at a point is relaxed to conditioning on some region \"close\" to the target point.\n",
    "\n",
    "For large training sample size $N$, the points in the neighborhood are likely to be close to $x$, and as $k$ gets large the average will get more stable. In fact, under mild regularity conditions on the joint probability distribution $\\text{Pr}(X,Y)$, one can show that\n",
    "\n",
    "\\begin{equation}\n",
    "\\hat{f}(x)\\rightarrow\\text{E}(Y|X=x)\\text{ as }N,k\\rightarrow\\infty\\text{ s.t. }k/N\\rightarrow0\n",
    "\\end{equation}\n",
    "\n",
    "#### Isn't it perfect?\n",
    "\n",
    "In light of this, why look further, since it seems we have a universal approximator?\n",
    "* We often do not have very large samples.  \n",
    "  Linear models can usually get a more stable estimate than kNN, provided the structured model is appropriate (although such knowledge has to be learned from the data as well).\n",
    "* Curse of dimensionality.  \n",
    "  As the dimension $p$ gets large, so does the metric size of the $k$-nearest neighborhood. So settling for kNN as a surrogate for conditioning will fail us miserably.  \n",
    "  The convergence above still holds, but the _rate_ of convergence decreases as the dimension increases."
   ]
  },
  {
   "cell_type": "markdown",
   "metadata": {},
   "source": [
    "### Model-based approach for linear regression\n",
    "\n",
    "How does linear regression fit into this framework? The simplest explanation is that one assumes that the regression function $f(x)$ is approximately linear in its arguments:\n",
    "\n",
    "\\begin{equation}\n",
    "f(x)\\approx x^T\\beta.\n",
    "\\end{equation}\n",
    "\n",
    "This is a model-based approach -- we specify a model for the regression function. \n",
    "\n",
    "Plugging this linear model for $f(x)$ into EPE and differentiating, we can solve for $\\beta$ theoretically:\n",
    "\n",
    "\\begin{equation}\n",
    "EPE(\\beta)=\\int(y-x^T\\beta)^2P(dx,dy)\n",
    "\\end{equation}\n",
    "\n",
    "Then\n",
    "\\begin{equation}\n",
    "\\frac{\\partial{EPE}}{\\partial{\\beta}}=\\int2(y-x^T\\beta)(-1)xP(dx,dy)\\\\\n",
    "=-2\\int(y-x^T\\beta)xP(dx,dy)\\\\\n",
    "\\text{since } y-x^T\\beta \\text{ are scalars }\\\\\n",
    "=-2\\int(yx-xx^T\\beta)P(dx,dy)\\\\\n",
    "\\end{equation}\n",
    "\n",
    "Let\n",
    "\\begin{equation}\n",
    "\\frac{\\partial{EPE}}{\\partial{\\beta}}=0\n",
    "\\end{equation}\n",
    "Then \n",
    "\\begin{equation}\n",
    "\\int(yx-xx^T\\beta)P(dx,dy)=E(yx)-E(xx^T\\beta)=E(yx)- E(xx^T)\\beta=0\n",
    "\\end{equation}\n",
    "Then\n",
    "\\begin{equation}\n",
    "\\beta = E(xx^T)^{-1}E(yx)\n",
    "\\end{equation}\n",
    "\n",
    "\\begin{equation}\n",
    "\\beta = \\left[\\text{E}\\left(XX^T\\right)\\right]^{-1}\\text{E}(XY)\n",
    "\\end{equation}\n",
    "\n",
    "Note we have _not_ conditioned on $X$; rather we have used out knowledge of the functional relationship to _pool_ over values of $X$. The least squares solution\n",
    "\n",
    "\\begin{equation}\n",
    "\\hat\\beta = \\left( \\mathbf{X}^T \\mathbf{X} \\right)^{-1} \\mathbf{X}^T \\mathbf{y}\n",
    "\\end{equation}\n",
    "\n",
    "amounts to replacing the expectation in the theoretical solution by averages over the training data."
   ]
  },
  {
   "cell_type": "markdown",
   "metadata": {},
   "source": [
    "### kNN vs. least squares\n",
    "\n",
    "So both kNN and least squares end up approximating conditional expectations by averages. But they differ dramatically in terms of model assumptions:\n",
    "* Least squares assumes $f(x)$ is well approximated by a globally linear function.\n",
    "* kNN assumes $f(x)$ is well approximated by a locally constant function.\n",
    "\n",
    "Although the latter seems more palatable, we have already seen that we may pay a price for this flexibility."
   ]
  },
  {
   "cell_type": "markdown",
   "metadata": {},
   "source": [
    "### Additive models (Brief on modern techniques)\n",
    "\n",
    "Many of the more modern techniques described in this book are model based, although far more flexible than the rigid linear model.\n",
    "\n",
    "For example, additive models assume that\n",
    "\n",
    "\\begin{equation}\n",
    "f(X) = \\sum_{j=1}^p f_j(X_j).\n",
    "\\end{equation}\n",
    "\n",
    "This retains the additivity of the linear model, but each coordinate function $f_j$ is arbitrary. It turns out that the optimal estimate for the additive model uses techniques such as kNN to approximate _univariate_ conditional expectations _simultaneously_ for each of the coordinate functions.\n",
    "\n",
    "Thus the problems of estimating a conditional expectation in high dimensions are swept away in this case by imposing some (often unrealistic) model assumptions, in this case additivity."
   ]
  },
  {
   "cell_type": "markdown",
   "metadata": {},
   "source": [
    "### Are we happy with $L_2$ loss? Yes, so far.\n",
    "\n",
    "If we replace the $L_2$ loss function with the $L_1$:\n",
    "\n",
    "\\begin{equation}\n",
    "E\\left| Y - f(X) \\right|,\n",
    "\\end{equation}\n",
    "\n",
    "the solution in this case is the conditional median,\n",
    "\n",
    "\\begin{equation}\n",
    "\\hat{f}(x) = \\text{median}(Y|X=x),\n",
    "\\end{equation}\n",
    "\n",
    "which is a different measure of location, and its estimates are more robust than those for the conditional mean.\n",
    "\n",
    "$L_1$ criteria have discontinuities in their derivatives, which have hindered their widespread use. Other more resistant loss functions will be mentioned in later chapters, but squared error is analytically convenient and the most popular."
   ]
  },
  {
   "cell_type": "markdown",
   "metadata": {},
   "source": [
    "### Bayes classifier: For a categorical output with 0-1 loss function\n",
    "\n",
    "The same paradigm works when the output is a categorical variale $G$, except we need a different loss function for penalizing prediction errors. An estimate $\\hat{G}$ will assume values in $\\mathcal{G}$, the set of possible classes.\n",
    "\n",
    "Our loss function can be represented by $K\\times K$ matrix $\\mathbf{L}$, where $K=\\text{card}(\\mathcal{G})$. $\\mathbf{L}$ will be zero on the diagonal and nonnegative elsewhere, representing the price paid for misclassifying $\\mathcal{G}_k$ as $\\mathcal{G}_l$;\n",
    "\n",
    "\\begin{equation}\n",
    "\\mathbf{L} = \\begin{bmatrix}\n",
    "0 & L(\\mathcal{G}_1, \\mathcal{G}_2) & \\cdots & L(\\mathcal{G}_1, \\mathcal{G}_K) \\\\\n",
    "L(\\mathcal{G}_2, \\mathcal{G}_1) & 0 & \\cdots & L(\\mathcal{G}_2, \\mathcal{G}_K) \\\\\n",
    "\\vdots & \\vdots & \\ddots & \\vdots \\\\\n",
    "L(\\mathcal{G}_K, \\mathcal{G}_1) & L(\\mathcal{G}_K, \\mathcal{G}_2) & \\cdots & 0\n",
    "\\end{bmatrix}\n",
    "\\end{equation}\n",
    "\n",
    "The expected prediction error is\n",
    "\n",
    "\\begin{equation}\n",
    "\\text{EPE} = \\text{E}\\left[L(G, \\hat{G}(X)\\right],\n",
    "\\end{equation}\n",
    "\n",
    "where the expectation is taken w.r.t. the joint distribution $\\text{Pr}(G, X)$.\n",
    "\n",
    "Again we condition, and can write EPE as\n",
    "\n",
    "\\begin{equation}\n",
    "\\text{EPE} = \\text{E}_X\\sum^K_{k=1}L\\left(\\mathcal{G}_k, \\hat{G}(X)\\right)\\text{Pr}\\left(\\mathcal{G}_k|X\\right)\n",
    "\\end{equation}\n",
    "\n",
    "and again it suffices to minimize EPE pointwise:\n",
    "\n",
    "\\begin{equation}\n",
    "\\hat{G}(x) = \\arg\\min_{g\\in\\mathcal{G}}\\sum^K_{k=1} L\\left(\\mathcal{G}_k,g\\right)\\text{Pr}\\left(\\mathcal{G}_k|X=x\\right)\n",
    "\\end{equation}\n",
    "\n",
    "#### 0-1 loss for Bayes classifier\n",
    "\n",
    "Most often we use the _zero-one_ loss function, where all misclassifications are charged a single unit, i.e.,\n",
    "\n",
    "\\begin{equation}\n",
    "L(k,l) = \\begin{cases}\n",
    "0\\text{ if }k = l,\\\\\n",
    "1\\text{ otherwise}.\n",
    "\\end{cases}\n",
    "\\end{equation}\n",
    "\n",
    "With the 0-1 loss function this simplifies to\n",
    "\n",
    "\\begin{align}\n",
    "\\hat{G}(x) &= \\arg\\min_{g\\in\\mathcal{G}} \\left[1 - \\text{Pr}(g|X=x)\\right]\\\\\n",
    "&= \\mathcal{G}_k \\text{ if Pr}\\left(\\mathcal{G}_k|X=x\\right) = \\max_{g\\in\\mathcal{G}}\\text{Pr}(g|X=x)\n",
    "\\end{align}\n",
    "\n",
    "This reasonable solution is known as the _Bayes classifier_, and says that we classify to the most probable class, using the conditional (discrete) distribution $\\text{Pr}(G|X)$. FIGURE 2.5 shows the Bayes-optimal decision boundary for our simulation example. The error rate of the Bayes classifier is called the _Bayes rate_."
   ]
  },
  {
   "cell_type": "code",
   "execution_count": 8,
   "metadata": {},
   "outputs": [],
   "source": [
    "%matplotlib inline\n",
    "import random\n",
    "import numpy as np\n",
    "import scipy\n",
    "import scipy.stats\n",
    "import matplotlib.pyplot as plt"
   ]
  },
  {
   "cell_type": "code",
   "execution_count": 16,
   "metadata": {},
   "outputs": [],
   "source": [
    "\"\"\"FIGURE 2.5. The optimal Bayes decision boundary for the simulation example.\n",
    "Since the generating density is known for each class, this decision boundary can be\n",
    "calculated exactly.\"\"\"\n",
    "sample_size = 100\n",
    "# Parameters for mean distributions\n",
    "mean_blue = [1, 0]\n",
    "mean_orange = [0, 1]\n",
    "mean_cov = np.eye(2)\n",
    "mean_size = 10\n",
    "\n",
    "# Additional parameters for blue and orange distributions\n",
    "sample_cov = np.eye(2)/5\n",
    "\n",
    "# Generate mean components for blue and orange (10 means for each)\n",
    "sample_blue_mean = np.random.multivariate_normal(mean_blue, mean_cov, mean_size)\n",
    "sample_orange_mean = np.random.multivariate_normal(mean_orange, mean_cov, mean_size)\n",
    "\n",
    "# Generate blue points\n",
    "sample_blue = np.array([\n",
    "    np.random.multivariate_normal(sample_blue_mean[random.randint(0, 9)], sample_cov)\n",
    "    for _ in range(sample_size)\n",
    "])\n",
    "y_blue = np.zeros(sample_size)\n",
    "\n",
    "# Generate orange points\n",
    "sample_orange = np.array([\n",
    "    np.random.multivariate_normal(sample_orange_mean[random.randint(0, 9)], sample_cov)\n",
    "    for _ in range(sample_size)\n",
    "])\n",
    "y_orange = np.ones(sample_size)\n",
    "\n",
    "data_x = np.concatenate((sample_blue, sample_orange), axis=0)\n",
    "data_y = np.concatenate((y_blue, y_orange)) "
   ]
  },
  {
   "cell_type": "code",
   "execution_count": 19,
   "metadata": {},
   "outputs": [],
   "source": [
    "def density_blue(arr:np.ndarray)->np.ndarray:\n",
    "    densities = np.array([\n",
    "        scipy.stats.multivariate_normal.pdf(arr, mean=m, cov=mean_cov)\n",
    "        for m in sample_blue_mean\n",
    "    ])\n",
    "    return densities.mean(axis=0)\n",
    "\n",
    "\n",
    "def density_orange(arr:np.ndarray)->np.ndarray:\n",
    "    densities = np.array([\n",
    "        scipy.stats.multivariate_normal.pdf(arr, mean=m, cov=mean_cov)\n",
    "        for m in sample_orange_mean\n",
    "    ])\n",
    "    return densities.mean(axis=0)"
   ]
  },
  {
   "cell_type": "code",
   "execution_count": 20,
   "metadata": {},
   "outputs": [
    {
     "name": "stdout",
     "output_type": "stream",
     "text": [
      "[-2.53219024 -2.30121419] [2.50789865 2.91277445]\n"
     ]
    }
   ],
   "source": [
    "min_x = data_x.min(axis=0)\n",
    "max_x = data_x.max(axis=0)\n",
    "print(min_x, max_x)\n",
    "arr = np.array([(i, j)\n",
    "                   for i in np.linspace(min_x[0]-.1, max_x[0]+.1, 100)\n",
    "                   for j in np.linspace(min_x[1]-.1, max_x[1]+.1, 100)])\n",
    "proba_blue = density_blue(arr)\n",
    "proba_orange = density_orange(arr)"
   ]
  },
  {
   "cell_type": "code",
   "execution_count": 21,
   "metadata": {},
   "outputs": [
    {
     "data": {
      "text/plain": [
       "array([[-2.63219024, -2.40121419],\n",
       "       [-2.63219024, -2.34652744],\n",
       "       [-2.63219024, -2.29184069],\n",
       "       ...,\n",
       "       [ 2.60789865,  2.90340094],\n",
       "       [ 2.60789865,  2.9580877 ],\n",
       "       [ 2.60789865,  3.01277445]])"
      ]
     },
     "execution_count": 21,
     "metadata": {},
     "output_type": "execute_result"
    }
   ],
   "source": [
    "arr"
   ]
  },
  {
   "cell_type": "code",
   "execution_count": 22,
   "metadata": {},
   "outputs": [
    {
     "data": {
      "image/png": "[encoded data removed]",
      "text/plain": [
       "<Figure size 432x288 with 1 Axes>"
      ]
     },
     "metadata": {
      "needs_background": "light"
     },
     "output_type": "display_data"
    }
   ],
   "source": [
    "# Plot\n",
    "fig = plt.figure(1)\n",
    "ax = fig.add_subplot(1, 1, 1)\n",
    "# Original data\n",
    "ax.plot(sample_blue[:, 0], sample_blue[:, 1], 'o', color='C0')\n",
    "ax.plot(sample_orange[:, 0], sample_orange[:, 1], 'o', color='C1')\n",
    "# Bayes classifier\n",
    "mask_blue = proba_blue > proba_orange\n",
    "mask_orange = ~mask_blue\n",
    "ax.plot(arr[mask_blue, 0], arr[mask_blue, 1], 'o',\n",
    "        markersize=2, color='C0', alpha=.2)\n",
    "ax.plot(arr[mask_orange, 0], arr[mask_orange, 1], 'o',\n",
    "        markersize=2, color='C1', alpha=.2)\n",
    "ax.set_title('Bayes Optimal Classifier')\n",
    "plt.show()"
   ]
  },
  {
   "cell_type": "markdown",
   "metadata": {},
   "source": [
    "### KNN and Bayes classifier\n",
    "\n",
    "Again we see that the kNN classifier directly approximates this solution -- a majority vote in a nearest neighborhood amounts to exactly this, except that\n",
    "* conditional probability at a point is relaxed to conditional probability within a neighborhood of a point,\n",
    "* and probabilities are estimated by training-sample proportions."
   ]
  },
  {
   "cell_type": "markdown",
   "metadata": {},
   "source": [
    "### From two-class to $K$-class\n",
    "Suppose for a two-class problem we had taken the dummy-variable approach and coded $G$ via a binary $Y$, followed by squared error loss estimation. Then\n",
    "\n",
    "\\begin{equation}\n",
    "\\hat{f}(X) = \\text{E}(Y|X) = \\text{Pr}(G=\\mathcal{G}_1|X)\n",
    "\\end{equation}\n",
    "\n",
    "if $\\mathcal{G}_1$ corresponded to $Y=1$.\n",
    "\n",
    "Likewise for a $K$-class problem,\n",
    "\n",
    "\\begin{equation}\n",
    "\\text{E}(Y_k|X) = \\text{Pr}(G=\\mathcal{G}_k|X).\n",
    "\\end{equation}\n",
    "\n",
    "> This shows that our dummy-variable regression procedure, followed by classification to the largest fitted value, is another way of representing the Bayes classifier.\n",
    "\n",
    "Although this theory is exact, in practice problems can occur, depending on the regression model used. For example, when linear regression is used, $\\hat{f}(X)$ need not be positive, and we might be suspicious about using it as an estimate of a probability. We will discuss a variety of approaches to modeling $\\text{Pr}(G|X)$ in Chapter 4."
   ]
  },
  {
   "cell_type": "markdown",
   "metadata": {},
   "source": [
    "# $\\S$ 2.5. Local Methods in High Dimensions\n",
    "\n",
    "We have examined two learning techniques for prediction so far;\n",
    "* the stable but biased linear model and\n",
    "* the less stable but apparently less biased class of kNN estimates.\n",
    "\n",
    "It would seem that with a reasonably large set of training data, we could always approximate the theoretically optimal conditional expectation by kNN averaging, since we should be able to find a fairly large neighborhood of observations close to any $x$ and average them.\n",
    "\n",
    "### The curse of dimensionality (Bellman, 1961)\n",
    "\n",
    "This approach and our intuition breaks down in high dimensions, and the phenomenon is commonly referred to as the _curse of dimensionality_ (Bellman, 1961). There are many manifestations of this problem, and we will examine a few here."
   ]
  },
  {
   "cell_type": "markdown",
   "metadata": {},
   "source": [
    "### The first example: Unit hypercube\n",
    "\n",
    "Consider the nearest-neighbor procedure for inputs uniformly distributed in a p-dimensional unit hypercube. Suppose we send out a hypercubical neighborhood about a target point to capture a fraction $r$ of the observations. Since this corresponds to a fraction $r$ of the unit volume, the expected edge length will be \n",
    "\n",
    "\\begin{equation}\n",
    "e_p(r) = r^{1/p}.\n",
    "\\end{equation}\n",
    "\n",
    "Note that $e_{10}(.01) = 0.63$ and $e_{10}(.1) = .80$, while the entire range for each input is only 1.0. Soto capture 1% or 10% of the data to form a local average, we must cover 63% or 80% of the range of each input variable. Such neighborhoods are no longer \"local\".\n",
    "\n",
    "Reducing $r$ dramatically does not help much either, since the fewer observations we average, the higher is the variance of our fit."
   ]
  },
  {
   "cell_type": "code",
   "execution_count": 23,
   "metadata": {},
   "outputs": [],
   "source": [
    "%matplotlib inline\n",
    "import math\n",
    "import random\n",
    "import numpy as np\n",
    "import matplotlib.pyplot as plt"
   ]
  },
  {
   "cell_type": "code",
   "execution_count": 24,
   "metadata": {},
   "outputs": [
    {
     "data": {
      "image/png": "[encoded data removed]",
      "text/plain": [
       "<Figure size 432x288 with 1 Axes>"
      ]
     },
     "metadata": {
      "needs_background": "light"
     },
     "output_type": "display_data"
    }
   ],
   "source": [
    "\"\"\"FIGURE 2.6. (right panel) The unit hypercube example\"\"\"\n",
    "fraction_of_volume = np.arange(0, 1, 0.001)\n",
    "edge_length_p1 = fraction_of_volume\n",
    "edge_length_p2 = fraction_of_volume**.5\n",
    "edge_length_p3 = fraction_of_volume**(1/3)\n",
    "edge_length_p10 = fraction_of_volume**.1\n",
    "\n",
    "fig1 = plt.figure(1)\n",
    "ax11 = fig1.add_subplot(1, 1, 1)\n",
    "ax11.plot(fraction_of_volume, edge_length_p10, label='p=10')\n",
    "ax11.plot(fraction_of_volume, edge_length_p3, label='p=3')\n",
    "ax11.plot(fraction_of_volume, edge_length_p2, label='p=2')\n",
    "ax11.plot(fraction_of_volume, edge_length_p1, label='p=1')\n",
    "ax11.set_xlabel('Fraction of Volume')\n",
    "ax11.set_ylabel('Distance')\n",
    "ax11.legend()\n",
    "ax11.plot([.1, .1], [0, 1], '--', color='C0', alpha=.5)\n",
    "ax11.plot([.3, .3], [0, 1], '--', color='C0', alpha=.5)\n",
    "plt.show()"
   ]
  },
  {
   "cell_type": "markdown",
   "metadata": {},
   "source": [
    "### The second example: Unit ball\n",
    "\n",
    "In high dimensions all sample points are close to an edge of the sample.\n",
    "\n",
    "Consider $N$ data points uniformly distributed in a $p$-dimensional unit ball centered at the origin. And consider a nearest-neighbor estimate at the origin. The median distance from the orign to the closest data point is given by the expression (Exercise 2.3)\n",
    "\n",
    "\\begin{equation}\n",
    "d(p,N) = \\left(1-\\frac{1}{2}^{1/N}\\right)^{1/p}.\n",
    "\\end{equation}\n",
    "\n",
    "A more complicated expression exists for the mean distance to the closest point.\n",
    "\n",
    "For $N=500, p=10$, $d(p,N)\\approx0.52$, more than half way to the boundary. Hence most data points are close to the boundary of the sample space than to any other data point.\n",
    "\n",
    "Why is this a problem? Prediction is much more difficult near the edges of the training sample. One must extrapolate from neighboring sample points rather than interpolate between them."
   ]
  },
  {
   "cell_type": "markdown",
   "metadata": {},
   "source": [
    "### The third example: Sampling density\n",
    "\n",
    "Another manifestiation of the curse is that the sampling density is proportional to $N^{1/p}$.\n",
    "\n",
    "If $N_1=100$ represents a dense sample for a single input problem, then $N_{10}=100^{10}$ is the sample size required for the same sampling density with 10 inputs. Thus in high dimensions all feasible training samples sparsely populate the input space."
   ]
  },
  {
   "cell_type": "markdown",
   "metadata": {},
   "source": [
    "### The fourth example: Bias-variance decomposition\n",
    "\n",
    "Let us construct another uniform example. Suppose\n",
    "* we have 1000 training examples $x_i$ generated uniformly on $[-1,1]^p$, and\n",
    "* the true relationship between $X$ and $Y$ is  \n",
    "\n",
    "  \\begin{equation}\n",
    "  Y = f(X) = e^{-8\\|X\\|^2},\n",
    "  \\end{equation}\n",
    "  \n",
    "  without any measurement error.\n",
    "* We use the 1NN rule to predict $y_0$ at the test-point $x_0=0$.\n",
    "\n",
    "Denote the training set by $\\mathcal{T}$. We can compute the expected prediction error at $x_0$ for our procedure, averaging over all such samples of size 1000. Since the problem is deterministic, this is the mean squared error (MSE) for estimating $f(0)$.\n",
    "\n",
    "\\begin{align}\n",
    "\\text{MSE}(x_0) &= \\text{E}_\\mathcal{T}\\left[f(x_0)-\\hat{y}_0\\right]^2 \\\\\n",
    "&= \\text{E}_\\mathcal{T}\\left[f(x_0) -\\text{E}_\\mathcal{T}(\\hat{y}_0) + \\text{E}_\\mathcal{T}(\\hat{y}_0)-\\hat{y}_0\\right]^2 \\\\\n",
    "&= \\text{E}_\\mathcal{T}\\left[\\hat{y}_0 - \\text{E}_\\mathcal{T}(\\hat{y}_0)\\right]^2 + \\left[\\text{E}_\\mathcal{T}(\\hat{y}_0)-f(x_0)\\right]^2 + 2\\left[\\text{E}_\\mathcal{T}(\\hat{y}_0)-f(x_0)\\right]\\text{E}_\\mathcal{T}\\left[\\hat{y}_0 - \\text{E}_\\mathcal{T}(\\hat{y}_0)\\right]\\\\\n",
    "&= \\text{E}_\\mathcal{T}\\left[\\hat{y}_0 - \\text{E}_\\mathcal{T}(\\hat{y}_0)\\right]^2 + \\left[\\text{E}_\\mathcal{T}(\\hat{y}_0)-f(x_0)\\right]^2 \\\\\n",
    "&= \\text{Var}_\\mathcal{T}(\\hat{y}_0) + \\text{Bias}^2(\\hat{y}_0)\n",
    "\\end{align}\n",
    "\n",
    "We have broken down the MSE into two components that will become familiar as we proceed: Variance and squared bias. Such a decomposition is always possible and often useful, and is known as the _bias-variance decomposition_.\n",
    "\n",
    "FIGURE 2.7 illustrates the setup. Unless the nearest neighbor is at 0, $\\hat{y}$ will be biased downward. The variance  is due to the sampling variance of the 1NN."
   ]
  },
  {
   "cell_type": "code",
   "execution_count": 2,
   "metadata": {},
   "outputs": [
    {
     "data": {
      "text/plain": [
       "array([ 0.52362402, -0.94160915,  0.76358392, -0.92365576, -0.30958527,\n",
       "        0.41281719, -0.7303279 , -0.91000641,  0.45042398,  0.65164906,\n",
       "        0.6156556 ,  0.43792673,  0.60248841, -0.83713385, -0.26846477,\n",
       "        0.35379219, -0.5860781 , -0.84750126,  0.15911063,  0.63183339,\n",
       "        0.47572948,  0.23940263, -0.13400333, -0.6860668 ,  0.22164816,\n",
       "        0.64684125, -0.47198284, -0.92006244, -0.24139513, -0.85121428,\n",
       "       -0.98214255,  0.87564502, -0.96080989, -0.88877688,  0.94252343,\n",
       "       -0.03999984, -0.17849397,  0.90958777,  0.06223157, -0.47722939,\n",
       "        0.80215919, -0.43945665, -0.59054645,  0.69098503,  0.8374996 ,\n",
       "       -0.01377477, -0.7367969 , -0.08373888,  0.97429187,  0.66285725,\n",
       "       -0.10196032,  0.52860923,  0.00819558, -0.28304599,  0.73095748,\n",
       "        0.26700299, -0.53518844, -0.43642706, -0.47041087, -0.41063947,\n",
       "       -0.63719431,  0.59294264, -0.61269841,  0.22890798,  0.90696006,\n",
       "       -0.11469428,  0.54643137,  0.09056606,  0.62173869, -0.63675044,\n",
       "       -0.9171507 ,  0.71368708, -0.53387976, -0.98530483,  0.44847328,\n",
       "        0.39126753, -0.42727058, -0.26641845, -0.36734638, -0.81923262,\n",
       "        0.60957656,  0.34521713,  0.4844742 , -0.95246551,  0.48442516,\n",
       "        0.30898226, -0.69295518,  0.75276877, -0.88029808,  0.97490338,\n",
       "        0.51909274, -0.89696155,  0.07237896,  0.30061967,  0.77811674,\n",
       "        0.32136716, -0.96534051, -0.98091785,  0.71521181,  0.0677101 ])"
      ]
     },
     "execution_count": 2,
     "metadata": {},
     "output_type": "execute_result"
    }
   ],
   "source": [
    "np.array([random.uniform(-1, 1) for _ in range(100)])"
   ]
  },
  {
   "cell_type": "code",
   "execution_count": 9,
   "metadata": {},
   "outputs": [
    {
     "data": {
      "text/plain": [
       "array([[-0.48601796, -0.44968368],\n",
       "       [-0.77970785,  0.89003972],\n",
       "       [-0.79092711,  0.61238668],\n",
       "       [ 0.67055626,  0.44152098],\n",
       "       [ 0.66777796, -0.89992495],\n",
       "       [-0.5107149 ,  0.13814159],\n",
       "       [-0.48246821, -0.55975761],\n",
       "       [ 0.51114079,  0.9236153 ],\n",
       "       [-0.43424228,  0.7123616 ],\n",
       "       [-0.57744428,  0.47452944]])"
      ]
     },
     "execution_count": 9,
     "metadata": {},
     "output_type": "execute_result"
    }
   ],
   "source": [
    " np.array([\n",
    "     [random.uniform(-1, 1) for _ in range(2)] for _ in range(10)])"
   ]
  },
  {
   "cell_type": "code",
   "execution_count": 10,
   "metadata": {},
   "outputs": [],
   "source": [
    "\"\"\"FIGURE 2.7. (bottom panels) Bias-variance decomposition example.\n",
    "Given the dimension p, 100 simulations are done and the following steps are\n",
    "taken for each simulation.\n",
    "1. Generate data of size 1000 from [-1, 1]^p\n",
    "2. Grap the nearest neighbor x of 0 and calculate the distance, i.e., norm\n",
    "3. Calculate y=f(x) and the variance and the squared bias for simulation\n",
    "of size 100.\n",
    "\"\"\"\n",
    "import math\n",
    "def generate_data(p: int, n: int) ->np.ndarray:\n",
    "    if p == 1:\n",
    "        return np.array([random.uniform(-1, 1) for _ in range(n)])\n",
    "    return np.array([\n",
    "        [random.uniform(-1, 1) for _ in range(p)]\n",
    "        for _ in range(n)\n",
    "    ])\n",
    "\n",
    "\n",
    "def f(p: int, x: np.ndarray) ->float:\n",
    "    if p == 1:\n",
    "        return math.exp(-8*(x**2))\n",
    "    return math.exp(-8*sum(xi*xi for xi in x))\n",
    "\n",
    "# np.linalg.norm to return one of eight different matrix norms, or one of an infinite number of vector norms\n",
    "# ord=2 is the Order of the norm\n",
    "# axis=1 it specifies the axis of x along which to compute the vector norms, 0 for columns; 1 for rows.\n",
    "def simulate(p: int, nsample:int, nsim: int) ->dict:\n",
    "    res = {'average_distance': 0}\n",
    "    sum_y = 0\n",
    "    sum_y_square = 0\n",
    "    for _ in range(nsim):\n",
    "        data = generate_data(p, nsample)\n",
    "        if p == 1:\n",
    "            data_norm = np.abs(data)\n",
    "        else:\n",
    "            data_norm = np.linalg.norm(data, ord=2, axis=1)\n",
    "        nearest_index = data_norm.argmin()\n",
    "        nearest_x, nearest_distance = data[nearest_index], data_norm[nearest_index]\n",
    "        nearest_y = f(p, nearest_x)\n",
    "        sum_y += nearest_y\n",
    "        sum_y_square += nearest_y*nearest_y\n",
    "        res['average_distance'] += nearest_distance\n",
    "    average_y = sum_y/nsim\n",
    "    res['average_distance'] /= nsim\n",
    "    res['variance'] = sum_y_square/nsim - average_y*average_y\n",
    "    res['squared_bias'] = (1-average_y)*(1-average_y)\n",
    "    return res"
   ]
  },
  {
   "cell_type": "code",
   "execution_count": 19,
   "metadata": {},
   "outputs": [
    {
     "data": {
      "image/png": "[encoded data removed]",
      "text/plain": [
       "<Figure size 720x360 with 2 Axes>"
      ]
     },
     "metadata": {
      "needs_background": "light"
     },
     "output_type": "display_data"
    }
   ],
   "source": [
    "nsim = 100\n",
    "data = {p: simulate(p, 1000, nsim) for p in range(1, 11)}\n",
    "dimension = list(data.keys())\n",
    "average_distance = [d['average_distance'] for p, d in data.items()]\n",
    "variance = np.array([d['variance'] for p, d in data.items()])\n",
    "squared_bias = np.array([d['squared_bias'] for p, d in data.items()])\n",
    "mse = variance + squared_bias\n",
    "\n",
    "fig2 = plt.figure(2, figsize=(10, 5))\n",
    "ax21 = fig2.add_subplot(1, 2, 1)\n",
    "ax21.set_title('Distance to 1-NN vs. Dimension')\n",
    "ax21.plot(dimension, average_distance, 'ro--')\n",
    "ax21.set_xlabel('Dimension')\n",
    "ax21.set_ylabel('Average Distance to Nearest Neighbor')\n",
    "\n",
    "ax22 = fig2.add_subplot(1, 2, 2)\n",
    "ax22.set_title('MSE vs. Dimension')\n",
    "ax22.plot(dimension, mse, 'o-', label='MSE')\n",
    "ax22.plot(dimension, variance, 'o-', label='Variance')\n",
    "ax22.plot(dimension, squared_bias, 'o-', label='Squared Bias')\n",
    "ax22.set_xlabel('Dimension')\n",
    "ax22.set_ylabel('MSE')\n",
    "ax22.legend()\n",
    "plt.savefig(\"savefig.pdf\", dpi=300, facecolor='w', edgecolor='w',\n",
    "        orientation='portrait', papertype='letter', format='pdf',\n",
    "        transparent=False, bbox_inches=None, pad_inches=0.1,\n",
    "        metadata=None)\n",
    "plt.show()"
   ]
  },
  {
   "cell_type": "markdown",
   "metadata": {},
   "source": [
    "The Frobenius norm is given by:\n",
    "\n",
    "$||A||_F = [\\sum_{i,j} abs(a_{i,j})^2]^{1/2}$"
   ]
  },
  {
   "cell_type": "code",
   "execution_count": 14,
   "metadata": {},
   "outputs": [
    {
     "data": {
      "image/png": "[encoded data removed]",
      "text/plain": [
       "<Figure size 432x432 with 1 Axes>"
      ]
     },
     "metadata": {
      "needs_background": "light"
     },
     "output_type": "display_data"
    }
   ],
   "source": [
    "#plot the target function (no noise)\n",
    "\n",
    "import matplotlib.pyplot as plt\n",
    "import math\n",
    "import random\n",
    "import numpy as np\n",
    "\n",
    "def f(p: int, x: np.ndarray) ->float:\n",
    "    if p == 1:\n",
    "        return math.exp(-8*(x**2))\n",
    "    return math.exp(-8*sum(xi*xi for xi in x))\n",
    "x_cords = np.linspace(-1.0, 1.0, 201)\n",
    "y_cords = [f(1, x) for x in x_cords]\n",
    "\n",
    "#The training point (10% of total) is indicated by the blue tick mark.\n",
    "fig9 = plt.figure(1, figsize=(6, 6))\n",
    "ax91 = fig9.add_subplot(1, 1, 1)\n",
    "ax91.plot(x_cords, y_cords, 'g')\n",
    "ax91.plot([0,0],[-0.05,1.05], color=\"0\", linewidth=1)\n",
    "ax91.plot([0.2,0.2],[f(1,0.2),1], \"b--\", linewidth=0.5)\n",
    "ax91.plot([0.0,0.2],[1,1], \"b--\", linewidth=0.5)\n",
    "ax91.set_title('1-NN in One Dimension')\n",
    "ax91.set_xlabel('X')\n",
    "ax91.set_ylabel('f(X)')\n",
    "ax91.margins(0,0)\n",
    "plt.show()"
   ]
  },
  {
   "cell_type": "markdown",
   "metadata": {},
   "source": [
    "In low dimensions and with $N = 1000$, the nearest neighbor is very close to $0$, and so both the bias and variance are small. As the dimension increases, the nearest neighbor tends to stray further from the target point, and both bias and variance are incurred. By $p = 10$, for more than $99\\%$ of the samples the nearest neighbor is a distance greater than $0.5$ from the origin.\n",
    "\n",
    "Thus as $p$ increases, the estimate tends to be 0 more often than not, and hence the MSE levels off at 1.0, as does the bias, and the variance starts dropping (an artifact of this example).\n",
    "\n",
    "Although this is a highly contrived example, similar phenomena occur more generally. The complexity of functions of many variables can grow exponentially with the dimension, and if we wish to be able to estimate such functions with the same accuracy as functions in low dimension, then we need the size of our training set to grow exponentially as well. In this example, the function is a complex interaction of all $p$ variables involved.\n",
    "\n",
    "The dependence of the bias term on distance depends on the truch, and it need not always dominate with 1NN. For example, if the function always involves only a few dimensions as in FIGURE 2.8, then the variance can dominate instead."
   ]
  },
  {
   "cell_type": "code",
   "execution_count": 19,
   "metadata": {},
   "outputs": [
    {
     "data": {
      "image/png": "[encoded data removed]",
      "text/plain": [
       "<Figure size 864x432 with 2 Axes>"
      ]
     },
     "metadata": {
      "needs_background": "light"
     },
     "output_type": "display_data"
    }
   ],
   "source": [
    "\"\"\"FIGURE 2.8. The variance-dominating example.\"\"\"\n",
    "\n",
    "#plot the target function (no noise)\n",
    "import matplotlib.pyplot as plt\n",
    "import math\n",
    "\n",
    "def f2(p: int, x: np.ndarray) ->float:\n",
    "    if p == 1:\n",
    "        return (x+1)**3/2\n",
    "    return (x[0]+1)**3/2\n",
    "\n",
    "x_cords = np.linspace(-1.0, 1.0, 201)\n",
    "y_cords = [f2(1, x) for x in x_cords]\n",
    "\n",
    "\n",
    "#The training point (10% of total) is indicated by the blue tick mark.\n",
    "fig8 = plt.figure(2, figsize=(12, 6))\n",
    "ax81 = fig8.add_subplot(1, 2, 1)\n",
    "ax81.plot(x_cords, y_cords, 'skyblue')\n",
    "ax81.plot([0,0],[-0.05,4.05], color=\"0\", linewidth=1)\n",
    "ax81.plot([0,0.2],[f2(1,0),f2(1,0)], \"b--\", linewidth=0.5)\n",
    "ax81.plot([0.2,0.2],[f2(1, 0), f2(1, 0.2)], \"b--\", linewidth=0.5)\n",
    "ax81.set_title('1-NN in One Dimension')\n",
    "ax81.set_xlabel('X')\n",
    "ax81.set_ylabel('f(X)')\n",
    "ax81.margins(0,0)\n",
    "\n",
    "def generate_data(p: int, n: int) ->np.ndarray:\n",
    "    if p == 1:\n",
    "        return np.array([random.uniform(-1, 1) for _ in range(n)])\n",
    "    return np.array([\n",
    "        [random.uniform(-1, 1) for _ in range(p)]\n",
    "        for _ in range(n)\n",
    "    ])\n",
    "\n",
    "def simulate(p: int, nsample:int, nsim: int) ->dict:\n",
    "    res = {'average_distance': 0}\n",
    "    sum_y = 0\n",
    "    sum_y_square = 0\n",
    "    for _ in range(nsim):\n",
    "        data = generate_data(p, nsample)\n",
    "        if p == 1:\n",
    "            data_norm = np.abs(data)\n",
    "        else:\n",
    "            data_norm = np.linalg.norm(data, ord=2, axis=1)\n",
    "        nearest_index = data_norm.argmin()\n",
    "        nearest_x, nearest_distance = data[nearest_index], data_norm[nearest_index]\n",
    "        nearest_y = f2(p, nearest_x)\n",
    "        sum_y += nearest_y\n",
    "        sum_y_square += nearest_y*nearest_y\n",
    "        res['average_distance'] += nearest_distance\n",
    "    average_y = sum_y/nsim\n",
    "    res['average_distance'] /= nsim\n",
    "    res['variance'] = sum_y_square/nsim - average_y*average_y\n",
    "    res['squared_bias'] = (f2(1,0)-average_y)*(f2(1,0)-average_y)\n",
    "    return res\n",
    "\n",
    "nsim = 100\n",
    "data = {p: simulate(p, 1000, nsim) for p in range(1, 11)}\n",
    "dimension = list(data.keys())\n",
    "average_distance = [d['average_distance'] for p, d in data.items()]\n",
    "variance = np.array([d['variance'] for p, d in data.items()])\n",
    "squared_bias = np.array([d['squared_bias'] for p, d in data.items()])\n",
    "mse = variance + squared_bias\n",
    "\n",
    "ax82 = fig8.add_subplot(1, 2, 2)\n",
    "ax82.set_title('MSE vs. Dimension')\n",
    "ax82.plot(dimension, mse, 'o-', label='MSE')\n",
    "ax82.plot(dimension, variance, 'o-', label='Variance')\n",
    "ax82.plot(dimension, squared_bias, 'o-', label='Squared Bias')\n",
    "ax82.set_xlabel('Dimension')\n",
    "ax82.set_ylabel('MSE')\n",
    "ax82.legend()\n",
    "\n",
    "plt.show()"
   ]
  },
  {
   "cell_type": "markdown",
   "metadata": {},
   "source": [
    "### What good about the linear model?\n",
    "\n",
    "> By imposing some heavy restrictions on the class of models being fitted, we can avoid the curse of dimensionality.\n",
    "\n",
    "Suppose the relationship between $Y$ and $X$ is linear,\n",
    "\n",
    "\\begin{equation}\n",
    "Y=X^T\\beta+\\epsilon,\n",
    "\\end{equation}\n",
    "\n",
    "where $\\epsilon\\sim N(0,\\sigma^2)$.\n",
    "\n",
    "We fit the model by least squares to the training data. \n",
    "\n",
    "\\begin{equation}\n",
    "\\hat{\\beta}=(X^TX)^{-1}X^Ty=(X^TX)^{-1}X^T(X\\beta+\\epsilon)\\\\\n",
    "=\\beta+(X^TX)^{-1}X^T\\epsilon\n",
    "\\end{equation}\n",
    "\n",
    "For an arbitrary test point $x_0$, we have $\\hat{y_0} = x_0^T \\hat\\beta$,\n",
    "\\begin{equation}\n",
    "\\hat{y}_0=x_0^T\\hat{\\beta}=x_0^T\\beta+x_0^T(X^TX)^{-1}X^T\\epsilon\\\\\n",
    "=x_0^T\\beta+(X(X^TX)^{-1}x_0)^T\\epsilon\\\\\n",
    "=x_0^T \\beta + \\sum_{i=1}^N l_i(x_0) \\epsilon_i,\n",
    "\\end{equation}\n",
    "\n",
    "\n",
    "where $l_i(x_0)$ is the $i$th element of $\\mathbf{X}\\left( \\mathbf{X}^T \\mathbf{X} \\right)^{-1} x_0$.\n",
    "\n",
    "Since under this model the least squares estimates are unbiased, we find that the expected (squared) prediction error at $x_0$:\n",
    "Since\n",
    "\\begin{equation}\n",
    "\\text{E}_{y_0|x_0}\\text{E}_\\mathcal{T}[y_0-x_0^T\\beta]=\\text{E}_{y_0|x_0}[y_0-x_0^T\\beta]\\text{E}_\\mathcal{T}=0\\text{E}_\\mathcal{T}=0\n",
    "\\end{equation}\n",
    "\n",
    "\\begin{equation}\n",
    "\\text{E}_{y_0|x_0}\\text{E}_\\mathcal{T}[y_0-x_0^T\\beta]^2=\\text{Var}(y_0|x_0)=\\sigma^2\n",
    "\\end{equation}\n",
    "And\n",
    "\\begin{equation}\n",
    "\\text{E}_{y_0|x_0}\\text{E}_\\mathcal{T}[\\text{E}_\\mathcal{T}(\\hat{y}_0)-\\hat{y}_0]=\\text{E}_{y_0|x_0}0=0\n",
    "\\end{equation}\n",
    "\n",
    "And since the expectation of the length $N$ vector $\\epsilon$ is zero.\n",
    "\n",
    "\\begin{equation}\n",
    "\\text{E}_\\mathcal{T}(\\hat{y}_0)-x_0^T\\beta=\\text{E}_\\mathcal{T}(x_0^T\\beta+(X(X^TX)^{-1}x_0)^T\\epsilon)-x_0^T\\beta\\\\\n",
    "=\\text{E}_\\mathcal{T}(X(X^TX)^{-1}x_0)^T\\epsilon=0\n",
    "\\end{equation}\n",
    "\n",
    "And \n",
    "\\begin{equation}\n",
    "\\text{E}_{y_0|x_0}\\Biggl([y_0-x_0^T\\beta][\\text{E}_\\mathcal{T}(\\hat{y}_0)-\\hat{y}_0]\\Biggr)=[\\text{E}_\\mathcal{T}(\\hat{y}_0)-\\hat{y}_0]\\text{E}_{y_0|x_0}[y_0-x_0^T\\beta]=0\n",
    "\\end{equation}\n",
    "\n",
    "\n",
    "\\begin{align}\n",
    "\\text{EPE}(x_0) &= \\text{E}_{y_0|x_0}\\text{E}_\\mathcal{T}\\left(y_0-\\hat{y}_0\\right)^2 \\\\\n",
    "&= \\text{E}_{y_0|x_0}\\text{E}_\\mathcal{T}\\Biggl([y_0-x_0^T\\beta]+[\\text{E}_\\mathcal{T}(\\hat{y}_0)-\\hat{y}_0]+[x_0^T\\beta-\\text{E}_\\mathcal{T}(\\hat{y}_0)]\\Biggr)^2 \\\\\n",
    "&= \\text{Var}(y_0|x_0) + \\text{E}_\\mathcal{T} \\left(\\hat{y}_0 - \\text{E}_\\mathcal{T}\\hat{y}_0\\right)^2 + \\left(\\text{E}_\\mathcal{T}\\hat{y}_0 - x_0^T\\beta\\right)^2 \\\\\n",
    "&= \\text{Var}(y_0|x_0) + \\text{Var}_\\mathcal{T}(\\hat{y}_0) + \\text{Bias}^2(\\hat{y}_0) \\\\\n",
    "&= \\text{Var}(y_0|x_0) + \\text{Var}_\\mathcal{T}(\\hat{y}_0) + 0 \\\\\n",
    "&= \\sigma^2 + \\text{E}_\\mathcal{T}x_0^T\\left(\\mathbf{X}^T\\mathbf{X}\\right)^{-1}x_0\\sigma^2.\n",
    "\\end{align}\n",
    "\n",
    "Note that\n",
    "1. An additional variance $\\sigma^2$ is incurred, since our target is not deterministic.\n",
    "2. There is no bias, and the variance depends on $x_0$.\n",
    "\n",
    "If\n",
    "* $N$ is large,\n",
    "* $\\mathcal{T}$ were selected at random, and\n",
    "* $\\text{E}(X)=0$,\n",
    "\n",
    "then $\\mathbf{X}^T\\mathbf{X}\\rightarrow N\\text{Cov}(X)$ and\n",
    "\n",
    "\\begin{align}\n",
    "\\text{E}_{x_0}\\text{EPE}(x_0) &\\sim \\text{E}_{x_0}x_0^T\\text{Cov}(X)^{-1}x_0\\sigma^2/N + \\sigma^2 \\\\\n",
    "&= \\text{E}_{x_0}\\Bigl[\\text{trace}(x_0^T\\text{Cov}(X)^{-1}x_0)\\Bigr]\\sigma^2/N + \\sigma^2 \\\\\n",
    "&= \\text{E}_{x_0}\\Bigl[\\text{trace}(\\text{Cov}(X)^{-1}x_0x_0^T)\\Bigr]\\sigma^2/N + \\sigma^2 \\\\\n",
    "&= \\Bigl[\\text{trace}(\\text{Cov}(X)^{-1}\\text{Cov}(x_0))\\Bigr]\\sigma^2/N + \\sigma^2 \\\\\n",
    "&= \\text{trace}\\left(\\text{Cov}(X)^{-1}\\text{Cov}(x_0)\\right)\\sigma^2/N + \\sigma^2 \\\\\n",
    "&= \\text{trace}(I_p)\\sigma^2/N + \\sigma^2 \\\\\n",
    "&= \\sigma^2(p/N)+\\sigma^2.\n",
    "\\end{align}\n",
    "\n",
    "The expected EPE increases linearly as a function of $p$, with slope $\\sigma^2/N$. If $N$ is large and/or $\\sigma^2$ is small, this growth is variance is negligible (0 in the deterministic case).\n",
    "\n",
    "By imposing some heavy restrictions on the class of models being fitted, we have avoided the curse of dimensionality. Some of the technical details are derived in Exercise 2.5."
   ]
  },
  {
   "cell_type": "markdown",
   "metadata": {},
   "source": [
    "### EPE comparison: 1NN vs. least squares\n",
    "\n",
    "FIGURE 2.9 compares 1NN vs. least squares in two situations, both of which have the form\n",
    "\n",
    "\\begin{equation}\n",
    "Y = f(X) + \\epsilon,\n",
    "\\end{equation}\n",
    "\n",
    "* $X$ uniform as before,\n",
    "* $\\epsilon \\sim N(0,1)$,\n",
    "* $N=500$.\n",
    "\n",
    "For the orange curve, $f(x) = x_1$ is linear in the first coordinate, for the blue curve, $f(x) = \\frac{1}{2}(x_1+1)^3$ is cubic as in the figure."
   ]
  },
  {
   "cell_type": "code",
   "execution_count": 23,
   "metadata": {},
   "outputs": [
    {
     "data": {
      "text/plain": [
       "array([-0.61759521,  0.59642885,  0.52856294, -0.51102936,  0.7582173 ,\n",
       "        0.37392417,  0.04149905,  0.38397366,  0.85792946, -0.58157994])"
      ]
     },
     "execution_count": 23,
     "metadata": {},
     "output_type": "execute_result"
    }
   ],
   "source": [
    "np.random.uniform(-1, 1, size=(10, 3))[:, 0]"
   ]
  },
  {
   "cell_type": "code",
   "execution_count": 47,
   "metadata": {},
   "outputs": [
    {
     "data": {
      "text/plain": [
       "array([[ 0.01719569,  0.8104598 ],\n",
       "       [-0.7992207 , -0.1717739 ],\n",
       "       [ 0.45592493, -0.80862509],\n",
       "       [ 0.94327868, -0.63571168],\n",
       "       [-0.61028311,  0.4234042 ],\n",
       "       [-0.33729951, -0.40925221],\n",
       "       [ 0.31626791, -0.45314239],\n",
       "       [-0.02476081, -0.01779324],\n",
       "       [ 0.75235307, -0.3562242 ],\n",
       "       [-0.07984536, -0.76341629]])"
      ]
     },
     "execution_count": 47,
     "metadata": {},
     "output_type": "execute_result"
    }
   ],
   "source": [
    "# Cut the dimension using [:, :dim]\n",
    "np.random.uniform(-1, 1, size=(10, 3))[:, :2]"
   ]
  },
  {
   "cell_type": "code",
   "execution_count": 50,
   "metadata": {},
   "outputs": [
    {
     "data": {
      "text/plain": [
       "array([[-0.00848305, -0.14429979],\n",
       "       [ 0.08565318, -0.71950832],\n",
       "       [ 0.1717854 , -0.34590402],\n",
       "       [ 0.03021633, -0.48307884],\n",
       "       [ 0.77018078,  0.02259718],\n",
       "       [ 0.10105322, -0.42038542],\n",
       "       [ 0.18740025, -0.1727471 ],\n",
       "       [-0.06960062,  0.02860003],\n",
       "       [-0.35619697, -0.0278165 ],\n",
       "       [-0.33956579,  0.00973043]])"
      ]
     },
     "execution_count": 50,
     "metadata": {},
     "output_type": "execute_result"
    }
   ],
   "source": [
    "(np.random.uniform(-1, 1, size=(10, 3))[:, :2])*(np.random.uniform(-1, 1, size=(10, 3))[:, :2])"
   ]
  },
  {
   "cell_type": "code",
   "execution_count": 48,
   "metadata": {},
   "outputs": [
    {
     "data": {
      "text/plain": [
       "array([[ 1.        ,  0.10496641,  0.26744231],\n",
       "       [ 1.        , -0.21702965,  0.50820341],\n",
       "       [ 1.        ,  0.42527179,  0.75056226],\n",
       "       [ 1.        ,  0.61792228,  0.9076206 ],\n",
       "       [ 1.        , -0.52970636, -0.66967477],\n",
       "       [ 1.        ,  0.46928742,  0.52278373],\n",
       "       [ 1.        ,  0.49645549,  0.42786775],\n",
       "       [ 1.        , -0.97161169,  0.62793184],\n",
       "       [ 1.        , -0.62037455, -0.75072864],\n",
       "       [ 1.        ,  0.93673585, -0.89934708]])"
      ]
     },
     "execution_count": 48,
     "metadata": {},
     "output_type": "execute_result"
    }
   ],
   "source": [
    "# use np.hstack to combine the columns\n",
    "np.hstack((np.ones((10, 1)), np.random.uniform(-1, 1, size=(10, 3))[:, :2]))"
   ]
  },
  {
   "cell_type": "code",
   "execution_count": 43,
   "metadata": {},
   "outputs": [
    {
     "data": {
      "text/plain": [
       "-0.08955780990662486"
      ]
     },
     "execution_count": 43,
     "metadata": {},
     "output_type": "execute_result"
    }
   ],
   "source": [
    "# generate random errors with default (mean=0,std=1) distribution\n",
    "np.random.randn(100).mean()"
   ]
  },
  {
   "cell_type": "code",
   "execution_count": 37,
   "metadata": {},
   "outputs": [
    {
     "data": {
      "text/plain": [
       "1.0511418057538773"
      ]
     },
     "execution_count": 37,
     "metadata": {},
     "output_type": "execute_result"
    }
   ],
   "source": [
    "np.random.randn(100).std()"
   ]
  },
  {
   "cell_type": "code",
   "execution_count": 49,
   "metadata": {},
   "outputs": [
    {
     "data": {
      "text/plain": [
       "array([1, 0, 0, 0])"
      ]
     },
     "execution_count": 49,
     "metadata": {},
     "output_type": "execute_result"
    }
   ],
   "source": [
    "np.array([1] + [0]*3)"
   ]
  },
  {
   "cell_type": "code",
   "execution_count": 20,
   "metadata": {},
   "outputs": [
    {
     "data": {
      "image/png": "[encoded data removed]",
      "text/plain": [
       "<Figure size 432x288 with 1 Axes>"
      ]
     },
     "metadata": {
      "needs_background": "light"
     },
     "output_type": "display_data"
    }
   ],
   "source": [
    "\"\"\"FIGURE 2.9. Relative EPE (at x_0 = 0) ratio for 1NN vs. least squares\"\"\"\n",
    "size_simulation = 10000\n",
    "size_train = 500\n",
    "p = 10\n",
    "\n",
    "list_epe_ols_linear = []\n",
    "list_epe_1nn_linear = []\n",
    "list_epe_ols_cubic = []\n",
    "list_epe_1nn_cubic = []\n",
    "\n",
    "for _ in range(size_simulation):\n",
    "    epe_linear = []\n",
    "    # Generate data\n",
    "    train_x = np.random.uniform(-1, 1, size=(size_train, p))\n",
    "    # train_y_linear is the first column of train_x (X_1)\n",
    "    train_y_linear = train_x[:, 0]\n",
    "    train_y_cubic = ((train_x[:, 0]+1)**3)/2\n",
    "    train_error = np.random.randn(size_train)\n",
    "    train_ye_linear = train_y_linear + train_error\n",
    "    train_ye_cubic = train_y_cubic + train_error\n",
    "    \n",
    "    epe_ols_linear = []\n",
    "    epe_1nn_linear = []\n",
    "    epe_ols_cubic = []\n",
    "    epe_1nn_cubic = []\n",
    "    for dim in range(1, p+1):\n",
    "        # Cut the dimension\n",
    "        partial_x = train_x[:, :dim]\n",
    "        partial_1x = np.hstack((np.ones((size_train, 1)), partial_x))\n",
    "        \n",
    "        obs_y_linear = np.random.randn(1)\n",
    "        obs_y_cubic = .5 + np.random.randn(1)\n",
    "\n",
    "        # Least squares for linear f\n",
    "        xx = partial_1x.T @ partial_1x\n",
    "        xy_linear = partial_1x.T @ train_ye_linear\n",
    "        xxxy_linear = np.linalg.solve(xx, xy_linear)\n",
    "        hat_ols = np.array([1] + [0]*dim) @ xxxy_linear\n",
    "        epe_ols_linear.append((hat_ols-obs_y_linear)**2)\n",
    "\n",
    "        # 1NN for linear f\n",
    "        mat_norm = (partial_x*partial_x).sum(axis=1)\n",
    "        nn = mat_norm.argmin()\n",
    "        hat_1nn = train_ye_linear[nn]\n",
    "        epe_1nn_linear.append((hat_1nn-obs_y_linear)**2)\n",
    "        \n",
    "        # Least squares for cubic f\n",
    "        xy_cubic = partial_1x.T @ train_ye_cubic\n",
    "        xxxy_cubic = np.linalg.solve(xx, xy_cubic)\n",
    "        hat_ols = np.array([1] + [0]*dim) @ xxxy_cubic\n",
    "        epe_ols_cubic.append((hat_ols-obs_y_cubic)**2)\n",
    "        \n",
    "        # 1NN for cubic f\n",
    "        hat_1nn = train_ye_cubic[nn]\n",
    "        epe_1nn_cubic.append((hat_1nn-obs_y_cubic)**2)\n",
    "\n",
    "    list_epe_ols_linear.append(epe_ols_linear)\n",
    "    list_epe_1nn_linear.append(epe_1nn_linear)\n",
    "    list_epe_ols_cubic.append(epe_ols_cubic)\n",
    "    list_epe_1nn_cubic.append(epe_1nn_cubic)\n",
    "\n",
    "arr_epe_ols_linear = np.array(list_epe_ols_linear)\n",
    "arr_epe_1nn_linear = np.array(list_epe_1nn_linear)\n",
    "arr_epe_ols_cubic = np.array(list_epe_ols_cubic)\n",
    "arr_epe_1nn_cubic = np.array(list_epe_1nn_cubic)\n",
    "\n",
    "# Compute EPE, finally\n",
    "epe_ols_linear = arr_epe_ols_linear.mean(axis=0)\n",
    "epe_1nn_linear = arr_epe_1nn_linear.mean(axis=0)\n",
    "epe_ols_cubic = arr_epe_ols_cubic.mean(axis=0)\n",
    "epe_1nn_cubic = arr_epe_1nn_cubic.mean(axis=0)\n",
    "\n",
    "# Plot\n",
    "plot_x = list(range(1, p+1))\n",
    "fig4 = plt.figure(4)\n",
    "ax41 = fig4.add_subplot(1, 1, 1)\n",
    "ax41.plot(plot_x, epe_1nn_linear/epe_ols_linear, '-o',\n",
    "          color='C1', label='Linear')\n",
    "ax41.plot(plot_x, epe_1nn_cubic/epe_ols_cubic, '-o',\n",
    "          color='C0', label='Cubic')\n",
    "ax41.legend()\n",
    "ax41.set_xlabel('Dimension')\n",
    "ax41.set_ylabel('EPE Ratio')\n",
    "ax41.set_title('Expected Prediction Error of 1NN vs. OLS')\n",
    "plt.show()"
   ]
  },
  {
   "cell_type": "code",
   "execution_count": 54,
   "metadata": {},
   "outputs": [
    {
     "data": {
      "text/plain": [
       "10000"
      ]
     },
     "execution_count": 54,
     "metadata": {},
     "output_type": "execute_result"
    }
   ],
   "source": [
    "# list_epe_ols_linear is 10000 X 10 list\n",
    "len(list_epe_ols_linear)"
   ]
  },
  {
   "cell_type": "code",
   "execution_count": 52,
   "metadata": {},
   "outputs": [
    {
     "data": {
      "text/plain": [
       "10000"
      ]
     },
     "execution_count": 52,
     "metadata": {},
     "output_type": "execute_result"
    }
   ],
   "source": [
    "# arr_epe_ols_linear is 10000 X 10 array\n",
    "len(arr_epe_ols_linear)"
   ]
  },
  {
   "cell_type": "code",
   "execution_count": 55,
   "metadata": {},
   "outputs": [
    {
     "data": {
      "text/plain": [
       "array([[0.98240917],\n",
       "       [0.97851524],\n",
       "       [1.01285594],\n",
       "       [1.00377149],\n",
       "       [0.99835949],\n",
       "       [1.00265193],\n",
       "       [1.00174265],\n",
       "       [0.99765609],\n",
       "       [1.02053042],\n",
       "       [1.00488109]])"
      ]
     },
     "execution_count": 55,
     "metadata": {},
     "output_type": "execute_result"
    }
   ],
   "source": [
    "epe_ols_linear"
   ]
  },
  {
   "cell_type": "markdown",
   "metadata": {},
   "source": [
    "#### Linear case\n",
    "\n",
    "Shown is the relative EPE of 1NN to least squares, which appears to start at around 2 for the linear case.\n",
    "\n",
    "Least squares is unbiased in this case, and as discussed above the EPE is slightly above $\\sigma^2 = 1$.\n",
    "\n",
    "The EPE for 1NN is always above 2, since the variance of $\\hat{f}(x_0)$ in this case is at least $\\sigma^2$, and the ratio increases with dimension as the nearest neighbor strays from the target point.\n",
    "\n",
    "#### Cubic case\n",
    "\n",
    "For the cubic case, least squares is biased, which moderates the ratio.\n",
    "\n",
    "Clearly we could manufacture examples where the bias of least squares would dominate the variance, and the 1NN would come out the winner."
   ]
  },
  {
   "cell_type": "markdown",
   "metadata": {},
   "source": [
    "> By relying on rigid assumptions, the linear model has no bias at all and negligible variance, while the error in 1-nearest neighbor is substantially larger. However, if the assumptions are wrong, all bets are off and the 1-nearest neighbor may dominate. We will see that there is a whole spectrum of models between the rigid linear models and the extremely flexible 1-nearest-neighbor models, each with their own assumptions and biases, which have been proposed specifically to avoid the exponential growth in complexity of functions in high dimensions by drawing heavily on these assumptions.\n",
    "\n",
    "Before we delve more deeply, let us elaborate a bit on the concept of _statistical models_ and see how they fit into the prediction framework."
   ]
  },
  {
   "cell_type": "markdown",
   "metadata": {},
   "source": [
    "# $\\S$ 2.6. Statistical Models, Supervised Learning and Function Approximation\n",
    "\n",
    "### Review\n",
    "\n",
    "Our goal is to find a useful approximation $\\hat{f}(x)$ to $f(x)$ that underlies the predictive relationship between the inputs and outputs.\n",
    "\n",
    "In the theoretical setting of $\\S$ 2.4, we saw that\n",
    "1. for a quantitative response, squared error loss lead us to the regression function  \n",
    "\n",
    "  \\begin{equation}\n",
    "  f(x) = \\text{E}(Y|X=x).\n",
    "  \\end{equation}\n",
    "\n",
    "2. The kNNs can be viewed as direct estimates of this conditional expectation,\n",
    "3. but kNNs can fail at least two ways:\n",
    "  * If the dimension of the input space is high, the nearest neighbors need not be close to the target point, and can result in large errors,\n",
    "  * if special structure is known to exist, this can be used to reduce both the bias and the variance of the estimates.\n",
    "  \n",
    "> We anticipate using other classes of models for $f(x)$, in many cases specifically designed to overcome the dimensionality problems, and here we discuss a framework for incorporating them into the prediction problem."
   ]
  },
  {
   "cell_type": "markdown",
   "metadata": {},
   "source": [
    "## $\\S$ 2.6.1. A Statistical Model for the Joint Distribution $\\text{Pr}(X,Y)$\n",
    "\n",
    "### The additive error model\n",
    "Suppose in fact that our data arose from a statistical model\n",
    "\n",
    "\\begin{equation}\n",
    "Y = f(X) + \\epsilon,\n",
    "\\end{equation}\n",
    "\n",
    "where the random error $\\epsilon$ has $\\text{E}(\\epsilon)=0$ and is independent of $X$.\n",
    "\n",
    "Note that for this model,\n",
    "\n",
    "\\begin{equation}\n",
    "f(x)=\\text{E}(Y|X=x),\n",
    "\\end{equation}\n",
    "\n",
    "and in fact the conditional distribution $\\text{Pr}(Y|X)$ depends on $X$ only through the conditional mean $f(x)$.\n",
    "\n",
    "The additive error model is a useful approximation to the truth. For most systems the input-output pairs $(X,Y)$ will not have a deterministic relationship $Y=f(X)$. Generally there will be other unmeasured variables that also contribute to $Y$, including measurement error.\n",
    "\n",
    "The additive model assumes that we can capture all these departures from a deterministic relationship via the error $\\epsilon$.\n",
    "\n",
    "#### Where the deterministic rules\n",
    "\n",
    "For some problems a deterministic relationship does hold. Many of the classification problems studied in machine learning are of this form, where the response surface can be thought of as a colored map defined in $\\mathbb{R}^p$.\n",
    "\n",
    "The training data consist of colored examples from the map $\\{x_i,g_i\\}$, and the goal is to be able to color any point. Here the function is deterministic, and the randomness enters through the $x$ location of the training points.\n",
    "\n",
    "For the moment we will not pursue such problems, but will see that they can be handled by techniques appropriate for the error-based models."
   ]
  },
  {
   "cell_type": "markdown",
   "metadata": {},
   "source": [
    "### The i.i.d. assumption\n",
    "\n",
    "The assumption in the above additive error model that the errors are i.i.d. is not strictly necessary, but seems to be the back of our mind when we average squared errors uniformly in our EPE criterion.\n",
    "\n",
    "With such a model it becomes natural to use least squares as a data criterion for model estimation as in the linear model\n",
    "\n",
    "\\begin{equation}\n",
    "\\hat{Y} = \\hat\\beta_0 + \\sum_{j=1}^p X_j \\hat\\beta_j.\n",
    "\\end{equation}\n",
    "\n",
    "Simple modifications can be made to avoid the independence assumption; e.g., we can have\n",
    "\n",
    "\\begin{equation}\n",
    "\\text{Var}(Y|X=x)=\\sigma(x),\n",
    "\\end{equation}\n",
    "\n",
    "and now both the mean and variance depend on $X$.\n",
    "\n",
    "In general $\\text{Pr}(Y|X)$ can depend on X in complicated ways, but the additive error model precludes these."
   ]
  },
  {
   "cell_type": "markdown",
   "metadata": {},
   "source": [
    "### For qualitative outputs\n",
    "\n",
    "So far we have concentrated on the quantitative response.\n",
    "\n",
    "Additive error models are typically not used for qualitative outputs $G$; in this case the target function $p(X)$ _is_ the conditional density $\\text{Pr}(G|X)$, and this is modeled directly.\n",
    "\n",
    "For example, for two-class data, it is often reasonable to assume that the data arise from independent binary trials, with the probability of one particular outcome being $p(X)$, and the other $1 − p(X)$. Thus if $Y$ is the 0–1 coded version of $G$, then\n",
    "\\begin{equation}\n",
    "\\text{E}(Y |X = x) = p(x),\n",
    "\\end{equation}\n",
    "\n",
    "but the variance depends on $x$ as well: $\\text{Var}(Y |X = x) = p(x)\\left(1 − p(x)\\right)$."
   ]
  },
  {
   "cell_type": "markdown",
   "metadata": {},
   "source": [
    "## $\\S$ 2.6.2. Supervised Learning\n",
    "\n",
    "Before we launch into more statistically oriented jargon, we present the function-fitting paradigm from a machine learning point of view.\n",
    "\n",
    "Suppose for simplicity the additive error model\n",
    "\n",
    "\\begin{equation}\n",
    "Y = f(X) + \\epsilon\n",
    "\\end{equation}\n",
    "\n",
    "is a reasonable assumption.\n",
    "\n",
    "Supervised learning attempts to learn $f$ by example through a _teacher_. One observes the system under study, both the inputs and outputs, and assembles a _training_ set of observations\n",
    "\n",
    "\\begin{equation}\n",
    "\\mathcal{T} = \\left\\{ (x_i, y_i) : i = 1, \\cdots, N \\right\\}.\n",
    "\\end{equation}\n",
    "\n",
    "The observed input values to the system $x_i$ are also fed into an artificial system, known as a learning algorithm (usually a computer program), which also produces outputs $\\hat{f}(x_i)$ in response to the inputs.\n",
    "\n",
    "The learning algorithm has the property that it can modify its input/output relationship $\\hat{f}$ in response to differences $y_i − \\hat{f}(x_i)$ between the original and generated outputs. This process is known as _learning by example_. Upon completion of the learning process the hope is that the artificial and real outputs will be close enough to be useful for all sets of inputs likely to be encountered in practice.\n",
    "\n",
    "This learning paradigm has been the motivation for research into the supervised learning problem in the fields of machine learning (with analogies to human reasoning) and neural networks (with biological analogies to the brain). The approach taken in applied mathematics and statistics has been from the perspective of function approximation and estimation."
   ]
  },
  {
   "cell_type": "markdown",
   "metadata": {},
   "source": [
    "## $\\S$ 2.6.3. Function Approximation\n",
    "\n",
    "Here\n",
    "* the data pairs $\\{x_i, y_i\\}$ are viewed as points in a $(p+1)$-dimensional Euclidean space.\n",
    "* The function $f(x)$ has domain eqaul to the $p$-dimensional input subspace (or $\\mathbb{R}^p$ for convenience), and\n",
    "* $f$ is related to the data via a model such as $y_i=f(x_i)+\\epsilon$.\n",
    "\n",
    "The goal is to obtain a useful approximation to $f(x)$ for all $x$ in some region of $\\mathbb{R}^p$, given the representations in $\\mathcal{T}$.\n",
    "\n",
    "> Although somewhat less glamorous than the learning paradigm, treating supervised learning as a problem in function approximation encourages the geometrical concepts of Euclidean spaces and mathematical concepts of probabilsitic inference to be applied to the problem. This is the approach taken in this book."
   ]
  },
  {
   "cell_type": "markdown",
   "metadata": {},
   "source": [
    "### Associated parameters and basis expansions\n",
    "\n",
    "Many of the approximations we will encounter have associated a set of parameters $\\theta$ that can be modified to suit the data at hand. For example, the linear model\n",
    "\n",
    "\\begin{equation}\n",
    "f(x) = x^T\\beta\n",
    "\\end{equation}\n",
    "\n",
    "has $\\theta=\\beta$.\n",
    "\n",
    "Another class of useful approximators can be expressed as _linear basis expansions_\n",
    "\\begin{equation}\n",
    "f_\\theta(x) = \\sum_{k=1}^K h_k(x)\\theta_k,\n",
    "\\end{equation}\n",
    "where the $h_k$ are a suitable set of functions or transformations of the input vector $x$. Traditional examples are polynomial and trigonometric expansions, where for example $h_k$ might be $x_1^2$, $x_1x_2^2$, $\\text{cos}(x_1)$ and so on.\n",
    "\n",
    "We also encounter nonlinear expansions, such as the sigmoid transformation common to neural network models,\n",
    "\\begin{equation}\n",
    "h_k(x) = \\frac{1}{1+\\text{exp}(-x^T\\beta_k)}.\n",
    "\\end{equation}\n",
    "\n",
    "### Least squares again\n",
    "We can use least squares to estimate the parameters $\\theta$ in $f_\\theta$ as we did for the linear model, by minimizing the residual sum-of-squares\n",
    "\\begin{equation}\n",
    "\\text{RSS}(\\theta) = \\sum_{i=1}^N\\left(y_i-f_\\theta(x_i)\\right)^2\n",
    "\\end{equation}\n",
    "as a function of $\\theta$. This seems a reasonable criterion for an additive error model.\n",
    "\n",
    "In terms of function approximation, we imagine our parametrized function as a surface in $p+1$ space, and what we observe are noisy realizations from it. This is easy to visualize when $p=2$ and the vertical coordinate in the output $y$, as in FIGURE 2.10. The noise is in the output coordinate, so we find the set of parameters such that the fitted surface gets as close to the observed points as possible, where close is measured by the sum of squared vertical errors in $\\text{RSS}(\\theta)$."
   ]
  },
  {
   "cell_type": "markdown",
   "metadata": {},
   "source": [
    "For the linear model we get a simple closed form solution to the minimization problem. This is also true for the basis function methods, if the basis functions themselves do not have any hidden parameters. Otherwise the solution requires either iterative methods or numerical optimization.\n",
    "\n",
    "While least squares is generally very convenient, it is not the only criterion used and in some cases would not make much sense. A more general principle for estimation is _maximum likelihood estimation_."
   ]
  },
  {
   "cell_type": "markdown",
   "metadata": {},
   "source": [
    "### Maximum likelihood estimation\n",
    "\n",
    "Suppose we have a random sample $y_i, i=1,\\cdots,N$ from a density $\\text{Pr}_\\theta(y)$ indexed by some parameters $\\theta$. The log-probability of the observed sample is\n",
    "\n",
    "\\begin{equation}\n",
    "L(\\theta) = \\sum_{i=1}^N\\log\\text{Pr}_\\theta(y_i).\n",
    "\\end{equation}\n",
    "\n",
    "> The principle of maximum likelihood assumes that the most reasonable values for $\\theta$ are those for which the probability of the observed sample is largest.\n",
    "\n",
    "#### Least squares = ML with Gaussian errors\n",
    "Least squares for the additive error model $Y = f_\\theta(X) + \\epsilon$, with $\\epsilon \\sim N(0, \\sigma^2)$, is equivalent to maximum likelihood using the conditional likelihood\n",
    "\n",
    "\\begin{equation}\n",
    "\\text{Pr}(Y|X,\\theta) = N(f_\\theta(X), \\sigma^2).\n",
    "\\end{equation}\n",
    "\n",
    "So although the additional assumption of normality seems more restrictive, the results are the same. The log-likelihood of the data is\n",
    "\n",
    "\\begin{equation}\n",
    "L(\\theta) = -\\frac{N}{2}\\log(2\\pi) - N\\log\\sigma - \\frac{1}{2\\sigma^2} \\sum_{i=1}^N \\left( y_i - f_\\theta(x_i) \\right)^2,\n",
    "\\end{equation}\n",
    "\n",
    "and the only term involving $\\theta$ is the last, which is $\\text{RSS}(\\theta)$ up to a scalar negative multiplier.\n",
    "\n",
    "#### Multinomial likelihood for a qualitative output $G$\n",
    "\n",
    "A more interesting example is the multinomial likelihood for the regression function $\\text{Pr}(G|X)$ for a qualitative output $G$.\n",
    "\n",
    "Suppose we have a model\n",
    "\n",
    "\\begin{equation}\n",
    "\\text{Pr}(G=\\mathcal{G}_k|X=x) = p_{k,\\theta}(x), k=1,\\cdots,K\n",
    "\\end{equation}\n",
    "\n",
    "for the conditional density of each class given $X$, indexed by the parameter vector $\\theta$. Then the log-likelihood (also referred to as the cross-entropy) is\n",
    "\n",
    "\\begin{equation}\n",
    "L(\\theta) = \\sum_{i=1}^N\\log p_{g_i,\\theta}(x_i),\n",
    "\\end{equation}\n",
    "\n",
    "and when maximized it delivers values of $\\theta$ that best conform with the data in the likelihood sense."
   ]
  },
  {
   "cell_type": "markdown",
   "metadata": {},
   "source": [
    "# $\\S$ 2.7. Structured Regression Models\n",
    "\n",
    "### Review & motivation\n",
    "\n",
    "We have seen that although nearest-neighbor and other local methods focus directly on estimating the function at a point, they face problems in high dimensions. They may also be inappropriate even in low dimensions in cases where more structured approaches can make more efficient use of the data.\n",
    "\n",
    "This section introduces classes of such structured approaches. Before we proceed, though, we discuss further the need for such classes."
   ]
  },
  {
   "cell_type": "markdown",
   "metadata": {},
   "source": [
    "## $\\S$ 2.7.1. Difficulty of the Problem\n",
    "\n",
    "Consider the RSS criterion for an arbitrary function $f$,\n",
    "\n",
    "\\begin{equation}\n",
    "\\text{RSS}(f) = \\sum_{i=1}^N \\left( y_i - f(x_i) \\right)^2.\n",
    "\\end{equation}\n",
    "\n",
    "Minimizing the RSS leads to infinitely many solutions: Any function $\\hat{f}$ passing through the training points $(x_i,y_i)$ is a solution. Any particular solution chosen might be a poor predictor at test points different from the training points.\n",
    "\n",
    "If there are multiple observation pairs $(x_i,y_{il})$, $l=1,\\cdots,N_i$, at each value of $x_i$, the risk is limited. In this case, the solution pass through the average values of the $y_{il}$ at each $x_i$ (Exercise 2.6). The situation is similar to the one we have already visited in $\\S$ 2.4; indeed, the above RSS is the finite sample version of the expected prediction error\n",
    "\n",
    "\\begin{equation}\n",
    "\\text{EPE}(f) = \\text{E}\\left( Y - f(X) \\right)^2 = \\int \\left( y - f(x) \\right)^2 \\text{Pr}(dx, dy).\n",
    "\\end{equation}"
   ]
  },
  {
   "cell_type": "markdown",
   "metadata": {},
   "source": [
    "### Necessity & limit of the restriction\n",
    "\n",
    "If the sample size $N$ were sufficiently large such that repeats were guaranteed and densely arranged, it would seem that these solutions might all tend to the limiting conditional expectation.\n",
    "\n",
    "In order to obtain useful results for finite $N$, we must restrict the eligible solution to the RSS to a smaller set of functions.\n",
    "\n",
    "> How to decide on the nature of the restrictions is based on considerations outside of the data.\n",
    "\n",
    "These restrictions are somtimes\n",
    "* encoded via the parametric representation of $f_\\theta$, or\n",
    "* may be built into the learning method itself, either implicitly or explicitly.\n",
    "\n",
    "> These restricted classes of solutions are the major topic of this book.\n",
    "\n",
    "One thing should be clear, though.\n",
    "\n",
    "> Any restrictions imposed on $f$ that lead to a unique solution to RSS do not really remove the ambiguity caused by the multiplicity of solutions. There are infinitely many possible restrictions, each leading to a unique solution, so the abmiguity has simply been transferred to the choice of constraint."
   ]
  },
  {
   "cell_type": "markdown",
   "metadata": {},
   "source": [
    "### Complexity\n",
    "\n",
    "In general the constraints imposed by most learning methods can be described as _complexity_ restrictions of one kind or another.\n",
    "\n",
    "> This usually means some kind of regular behavior in small neighborhoods of the input space.\n",
    "\n",
    "That is, for all input points $x$ sufficiently close to each other in some metric, $\\hat{f}$ exhibits some special structure such as\n",
    "* nearly constant,\n",
    "* linear or\n",
    "* low-order polynomial behavior.\n",
    "\n",
    "The estimator is then obtained by averaging or polynomial fitting in that neighborhood.\n",
    "\n",
    "The strength of the constraint is dictated by the neighborhood size.\n",
    "\n",
    "> The larger the size, the stronger the constraint, and the more sensitive the solution is to the particular choice of constraint.\n",
    "\n",
    "For example,\n",
    "* local constant fits in infinitesimally small neighborhoods is no constraints at all;\n",
    "* local linear fits in very large neighborhoods is almost a globally llinear model, and is very restrictive."
   ]
  },
  {
   "cell_type": "markdown",
   "metadata": {},
   "source": [
    "### Metric\n",
    "\n",
    "The nature of the constraint depends on the metric used.\n",
    "\n",
    "Some methods, such as kernel and local regression and tree-based methods, directly specify the metric and size of the neighborhood. The kNN methods discussed so far are based on the assumption that locally the function is constant; close to a target input $x_0$, the function does not change much, and so close outputs can be averagedd to produce $\\hat{f}(x_0)$.\n",
    "\n",
    "Other methods such as splines, neural networks and basis-function methods implicitly define neighborhoods of local behavior. In $\\S$ 5.4.1 we discuss the concept of an _equivalent kernel_, which describes this local dependence for any method linear in the outputs. These equivalent kernels in many cases look just like the explicitly defined weighting kernels discussed above -- peaked at the target point and falling smoothly away from it."
   ]
  },
  {
   "cell_type": "markdown",
   "metadata": {},
   "source": [
    "### Curse of dimensionality\n",
    "\n",
    "One fact should be clear by now. Any method that attempts to produce locally varying functions in small isotopic neighborhoods will run into problems in high dimensions -- again the curse of dimensionality.\n",
    "\n",
    "And conversely, all methods that overcome the dimensionality problems have an associated -- and often implicit or adaptive -- metric for measuring neighborhoods, which basically does not allow the neighborhood to be simultaneously small in all directions."
   ]
  },
  {
   "cell_type": "markdown",
   "metadata": {},
   "source": [
    "# $\\S$ 2.8. Classes of Restricted Estimators\n",
    "\n",
    "The variety of nonparametric regression techniques or learning methods fall into a number of different classes depending on the nature of the restrictions imposed. These classes are not distinct, and indeed some methods fall in several classes.\n",
    "\n",
    "Each of the classes has associated with it one or more parameters, sometimes appropriately called _smoonthing_ parameters, that control the effective size of the local neighborhood.\n",
    "\n",
    "Here we describe three broad classes."
   ]
  },
  {
   "cell_type": "markdown",
   "metadata": {},
   "source": [
    "## $\\S$ 2.8.1. Roughness Penalty and Bayesian Methods\n",
    "\n",
    "Here the class of functions is controlled by explicitly penalizing $\\text{RSS}(f)$ with a roughness penalty $J$\n",
    "\n",
    "\\begin{equation}\n",
    "\\text{PRSS}(f;\\lambda) = \\text{RSS}(f) + \\lambda J(f),\n",
    "\\end{equation}\n",
    "\n",
    "where the user-selected functional $J(f)$ will be large for functions $f$ that vary too rapidly over small regions of input space.\n",
    "\n",
    "#### Cubic smoothing spline\n",
    "\n",
    "For example, the popular *cubic smoothing spline* for one-dimensional inputs is the solution to the penalized least-squares criterion\n",
    "\n",
    "\\begin{equation}\n",
    "\\text{PRSS}(f;\\lambda) = \\sum_{i=1}^N \\left(y_i-f(x_i)\\right)^2 + \\lambda\\int\\left[f''(x)\\right]^2 dx.\n",
    "\\end{equation}\n",
    "\n",
    "This roughness penalty controls large values of the second derivative of $f$, and the amount penalty is dictated by $\\lambda \\ge 0$. For $\\lambda =0$ no penalty is imposed, and any interpolating will do, while for $\\lambda = \\infty$ only functions linear in $x$ are permitted.\n",
    "\n",
    "### Various penalties\n",
    "\n",
    "Penalty functionals $J$ can be constructed for functions in any dimension, and special versions can be created to impose special structure. For example, additive penalties\n",
    "\n",
    "\\begin{equation}\n",
    "J(f) = \\sum_{j=1}^p J(f_j)\n",
    "\\end{equation}\n",
    "\n",
    "are used in conjunction with additive functions $f(X) = \\sum_{j=1}^p f_j(X_j)$ to create additive models with smooth coordinate functions.\n",
    "\n",
    "Similarly, _projection pursuit regression_ models have\n",
    "\n",
    "\\begin{equation}\n",
    "f(X) = \\sum_{m=1}^M g_m(\\alpha_m^T X)\n",
    "\\end{equation}\n",
    "\n",
    "for adaptively chosen direction $\\alpha_m$, and the functions $g_m$ can each have an associated roughness penalty.\n",
    "\n",
    "### Connection with Bayesian framework\n",
    "\n",
    "Penalty function, or _regularization_ methods, express our prior belief that the type of functions we seek exhibits a certain type of smooth behavior, and indeed can usually be cast in a Bayesian framework.\n",
    "* The penalty $J$ corresponds to a log-prior, and\n",
    "* $\\text{PRSS}(f;\\lambda)$ the log-posterior distribution, and\n",
    "* minimizing $\\text{PRSS}$ amounts to finding the posterior mode.\n",
    "\n",
    "We discuss roughness-penalty approaches in Chapter 5 and the Bayesian paradigm in Chapter 8."
   ]
  },
  {
   "cell_type": "markdown",
   "metadata": {},
   "source": [
    "## $\\S$ 2.8.2. Kernel Methods and Local Regression\n",
    "\n",
    "These methods can be thought of as explicitly providing estimates of the regression function or conditional expectation by specifying the nature of the local neighborhood, and of the class of regular functions fitted locally.\n",
    "\n",
    "The local neighborhood is specified by a _kernel function_ $K_\\lambda(x_0, x)$ which assigns weights to points $x$ in a region around $x_0$ (FIGURE 6.1). For example, the Gaussian kernel has a weight function based on the Gaussian density function\n",
    "\n",
    "\\begin{equation}\n",
    "K_\\lambda(x_0, x) = \\frac{1}{\\lambda}\\exp\\left(-\\frac{\\|x-x_0\\|^2}{2\\lambda}\\right),\n",
    "\\end{equation}\n",
    "\n",
    "and assigns weights to points that die exponentially with their squared Euclidean distance from $x_0$. The parameter $\\lambda$ corresponds to the variance of the Gaussian density, and controls the width of the neighborhood.\n",
    "\n",
    "The simplest form of kernel estimate is the Nadaraya-Watson weighted average\n",
    "\n",
    "\\begin{equation}\n",
    "\\hat{f}(x_0) = \\frac{\\sum_{i=1}^N K_\\lambda(x_0, x_i)y_i}{\\sum_{i=1}^N K_\\lambda(x_0, x_i)}.\n",
    "\\end{equation}\n",
    "\n",
    "### Formulation\n",
    "\n",
    "In general, we can define a local regression estimate of $f(x_0)$ as $f_{\\hat{\\theta}}(x_0)$, where $\\hat{\\theta}$ minimizes\n",
    "\n",
    "\\begin{equation}\n",
    "\\text{RSS}(f_\\theta,x_0) = \\sum_{i=1}^N K_\\lambda(x_0, x_i)\\left(y_i -f_\\theta(x_i)\\right)^2,\n",
    "\\end{equation}\n",
    "\n",
    "where $f_\\theta$ is some parameterized function, such as a low-order polynomial. Some examples are:\n",
    "* $f_\\theta(x) = \\theta_0$, the constant function; this results in the Nadaraya-Watson estimate.\n",
    "* $f_\\theta(x) = \\theta_0+\\theta_1 x$ gives the popular local linear regression model.\n",
    "\n",
    "### Association between kernel methods and kNN\n",
    "\n",
    "Nearest-neighbor methods can be thought of as kernel methods having a more data-dependent metric. Indeed, the metric for kNN is\n",
    "\n",
    "\\begin{equation}\n",
    "K_k(x,x_0) = I\\left(\\|x-x_0\\| \\le \\|x_{(k)}-x_0\\|\\right),\n",
    "\\end{equation}\n",
    "\n",
    "where\n",
    "* $x_{(k)}$ is the training observation ranked $k$th in distance from $x_0$, and\n",
    "* $I(S)$ is the indicator of the set $S$.\n",
    "\n",
    "These methods of course need to be modified in high dimensions, to avoid the curse of dimensionality.\n",
    "\n",
    "Various adaptations are discussed in Chapter 6."
   ]
  },
  {
   "cell_type": "markdown",
   "metadata": {},
   "source": [
    "## $\\S$ 2.8.3. Basis functions and Dictionary Methods\n",
    "\n",
    "This class of methods includes the familiar linear and polynomial expansions, but more importantly a wide variety of more flexible models.\n",
    "\n",
    "### Linear expansion\n",
    "\n",
    "The model for $f$ is a linear expansion of basis functions\n",
    "\n",
    "\\begin{equation}\n",
    "f_\\theta(x) = \\sum_{m=1}^M\\theta_m h_m(x),\n",
    "\\end{equation}\n",
    "\n",
    "where each of the $h_m$ is a function of the input $x$, and the term linear here refers to the action of the parameter $\\theta$.\n",
    "\n",
    "This class covers a wide variety of methods.\n",
    "\n",
    "In some cases the sequence of basis functions is prescribed, such as a basis for polynomials in $x$ of total degree $M$.\n",
    "\n",
    "#### Splines\n",
    "\n",
    "For 1D $x$, polynomial splines of degree $K$ can be represented by an appropriate sequence of $M$ spline basis functions, determined in turn by $M-K-1$ _knots_. These produce functions that are piecewise polynomials of degree $K$ between the knots, and joined up with continuity of degree $K-1$ at the knots.\n",
    "\n",
    "#### Linear splines\n",
    "\n",
    "As an example consider linear splines, or piecewise linear functions. One intuitively satisfying basis consist of the functions\n",
    "\n",
    "\\begin{align}\n",
    "b_1(x) &= 1, \\\\\n",
    "b_2(x) &= x, \\\\\n",
    "b_{m+2}(x) &= (x - t_m)_+, m=1,\\cdots,M-2,\n",
    "\\end{align}\n",
    "\n",
    "where\n",
    "* $t_m$ is the $m$th knot, and\n",
    "* $z_+$ denotes positive part.\n",
    "\n",
    "Tensor products of spline bases can be used for inputs with dimensions larger than one ($\\S$ 5.2, and the CART/MARS model in Chapter 9).\n",
    "\n",
    "The parameter $M$ controls the degree of the polynomial or the number of knots in the case of splines.\n",
    "\n",
    "### Radial basis functions\n",
    "\n",
    "_Radial basis functions_ are symmetric $p$-dimensional kernels located at particular centroids,\n",
    "\n",
    "\\begin{equation}\n",
    "f_\\theta(x) = \\sum_{m=1}^M K_{\\lambda_m}(\\mu_m,x) \\theta_m,\n",
    "\\end{equation}\n",
    "\n",
    "e.g., the Gaussian kernel $K_\\lambda(\\mu,x)=e^{-\\|x-\\mu\\|^2/2\\lambda}$ is popular.\n",
    "\n",
    "Radial basis functions have centroids $\\mu_m$ and scales $\\lambda_m$ that have to be determined. The spline basis functions have knots. In general we would like the data to dictate them as well.\n",
    "\n",
    "> Including these as parameters changes the regression problem from a straightforward linear problem to a combinatorially hard nonlinear problem.\n",
    "\n",
    "In practice, shortcuts such as greedy algorithms or two stage processes are used ($\\S$ 6.7).\n",
    "\n",
    "### Neural networks\n",
    "\n",
    "A single-layer feed-forward neural network model with linear output weights can be thought of as an adaptive basis function method.\n",
    "\n",
    "The model has the form\n",
    "\n",
    "\\begin{equation}\n",
    "f_\\theta(x) = \\sum_{m=1}^M \\beta_m \\sigma(\\alpha_m^T x + b_m),\n",
    "\\end{equation}\n",
    "\n",
    "where\n",
    "\n",
    "\\begin{equation}\n",
    "\\sigma(x) = \\frac{1}{1+e^{-x}}\n",
    "\\end{equation}\n",
    "\n",
    "is known as the _activation_ function.\n",
    "\n",
    "Here, as in the projection pursuit model, the directions $\\alpha_m$ and the _bias_ term $b_m$ have to be determined, and their estimation is the meat of the computation (Chapter 11).\n",
    "\n",
    "### Dictionary\n",
    "\n",
    "These adaptively chosen basis function methods are a.k.a. _dictionary_ methods, where one has available a possibly infinite set or dictionary $\\mathcal{D}$ of candidate basis functions from which to choose, and models are built up by employing some kind of search mechanism."
   ]
  },
  {
   "cell_type": "markdown",
   "metadata": {},
   "source": [
    "# $\\S$ 2.9. Model Selection and the Bias-Variance Tradeoff\n",
    "\n",
    "### Review\n",
    "\n",
    "All the Models described so far have a *smoothing* or *complexity* parameter that has to be determined:\n",
    "* The multiplier of the penalty term;\n",
    "* the width of the kernel;\n",
    "* or the number of basis functions.\n",
    "\n",
    "In the case of the smoothing spline, the parameter $\\lambda$ indexes models ranging from a straight line fit to the interpolating model.\n",
    "\n",
    "Similarly a local degree-$m$ polynomial model ranges between a degree-$m$ global polynomial when the window size is infinitely large, to an interpolating fit when the window size shrinks to zero.\n",
    "\n",
    "This means that we cannot use residual sum-of-squares on the training data to determine these parameters as well, since we would always pick those that gave interpolating fits and hence zero residuals. Such a model is unlikely to predict future data well at all."
   ]
  },
  {
   "cell_type": "markdown",
   "metadata": {},
   "source": [
    "### The bias-variance tradeoff for the kNN\n",
    "\n",
    "The kNN regression fit $\\hat{f}_k(x_0)$ usefully illustrates the competing forces that affect the predictive ability of such approximations.\n",
    "\n",
    "Suppose\n",
    "* the data arise from a model $Y=f(X)+\\epsilon$, with $\\text{E}(\\epsilon)=0$ and $\\text{Var}(\\epsilon)=\\sigma^2$;\n",
    "* for simplicity here the values of $x_i$ in the sample are fixed in advance (nonrandom).\n",
    "\n",
    "The expected prediction error at $x_0$, a.k.a. _test_ or _generalization_ error, can be decomposed:\n",
    "\n",
    "\\begin{align}\n",
    "\\text{EPE}_k(x_0) &= \\text{E}\\left[(Y-\\hat{f}_k(x_0))^2|X=x_0\\right] \\\\\n",
    "&= \\text{E}\\left[(Y -f(x_0) + f(x_0) -\\hat{f}_k(x_0))^2|X=x_0\\right] \\\\\n",
    "&= \\text{E}(\\epsilon^2) + 2\\text{E}\\left[\\epsilon(f(x_0) -\\hat{f}_k(x_0))|X=x_0\\right] + \\text{E}\\left[\\left(f(x_0)-\\hat{f}_k(x_0)\\right)^2|X=x_0\\right] \\\\\n",
    "&= \\sigma^2 + 0+ \\left[\\text{Bias}^2(\\hat{f}_k(x_0))+\\text{Var}_\\mathcal{T}(\\hat{f}_k(x_0))\\right] \\\\\n",
    "&= \\sigma^2 + \\left(f(x_0) - \\frac{1}{k}\\sum_{l=1}^k f(x_{(l)})\\right)^2 + \\frac{\\sigma^2}{k}\n",
    "\\end{align},\n",
    "\n",
    "where subscripts in parentheses $(l)$ indicate the sequence of nearest neighbors to $x_0$.\n",
    "\n",
    "There are three terms in this expression.\n",
    "\n",
    "#### Irreducible error\n",
    "The first term $\\sigma^2$ is the *irreducible* error -- the variance of the new test target -- and is beyond our control, even if we know the true $f(x_0)$.\n",
    "\n",
    "The second and third terms are under our control, and make up the _mean squared error_ of $\\hat{f}_k(x_0)$ in estimateing $f(x_0)$, which is broken down into a bias component and a variance component.\n",
    "\n",
    "#### Bias\n",
    "The bias term is the squared difference between the true mean $f(x_0)$ and the expected value of the estimate, i.e.,\n",
    "\n",
    "\\begin{equation}\n",
    "\\left[ \\text{E}_\\mathcal{T} \\left( \\hat{f}_k(x_0) \\right) - f(x_0) \\right]^2,\n",
    "\\end{equation}\n",
    "\n",
    "where the expectation averages the randomness in the training data.\n",
    "\n",
    "This term will most likely increase with $k$, if the true function is reasonably smooth. For small $k$ the few closest neighbors will have values $f(x_{(l)})$ close to $f(x_0)$, so their average should be close to $f(x_0)$. As $k$ grows, the neighbors are further away, and then anything can happen.\n",
    "\n",
    "#### Variance\n",
    "The variance term is simply the variance of an average here, and decreases as the inverse of $k$.\n",
    "\n",
    "#### Finally, the tradeoff\n",
    "So as $k$ varies, there is a *bias-variance tradeoff*.\n",
    "\n",
    "More generally, as the _model complexity_ of our procedure is increased, the variance tends to increase and the squared bias tends to decrease, vice versa. For kNN, the model complexity is controlled by $k$.\n",
    "\n",
    "Typically we would like to choose our model complexity to trade bias off with variance in such a way as to minimize the test error. An obvious estimate of test error is _training error_\n",
    "\n",
    "\\begin{equation}\n",
    "\\frac{1}{N} \\sum_i (y_i \\hat{y}_i)^2.\n",
    "\\end{equation}\n",
    "\n",
    "Unfortunately training error is not a good estimate of test error, as it does not properly account for model complexity."
   ]
  },
  {
   "cell_type": "markdown",
   "metadata": {},
   "source": [
    "### Interpretation & implication\n",
    "FIGURE 2.11 shows the typical behavior of the test and training error, as model complexity is varied.\n",
    "\n",
    "> The training error tends to decrease whenever we increase the model complexity, i.e., whenever we fit the data harder.\n",
    "\n",
    "However with too much fitting, the model adapts itself too closely to the training data, and will not generalize well (i.e., have large test error). In that case the predictions $\\hat{f}(x_0)$ will have large variance, as reflected in the above EPE expression.\n",
    "\n",
    "In contrast, if the model is not complex enough, it will _underfit_ and may have large mias, again resulting in poor generalization. In Chapter 7 we discuss methods for estimating the test error of a prediction method, and hence estimating the optimal amount of model complexity fir a given prediction method and training set."
   ]
  },
  {
   "cell_type": "markdown",
   "metadata": {},
   "source": [
    "# $\\S$ Exercises\n",
    "## Ex. 2.1 (target coding)\n",
    "\n",
    "Suppose each of $K$-classes has an associated target $t_k$, which is a vector of all zeros, except a one in the $k$th position. Show that classifying to\n",
    "the largest element of $\\hat{y}$ amounts to choosing the closest target, $\\text{min}_k||t_k − \\hat{y}||$, if the elements of $\\hat{y}$ sum to one."
   ]
  },
  {
   "cell_type": "markdown",
   "metadata": {},
   "source": [
    "We have some input data $x$. Some algorithm assigns to $x$ the probability $y_k$ that $x$ is a member of the $k$-th class. This would explain why the sum of the $y_k$ is equal to one.\n",
    "For each $k$ with $1 \\leq k \\leq K$, let $t_k$ be the $K$-dimensional vector that has $1$ in the $k$-th position and $0$ elsewhere. \n",
    "\\begin{align}\n",
    "\\text{argmin}_k||y-t_k||&=\\text{argmin}_k||y-t_k||^2\\\\\n",
    "&=\\text{argmin}_k\\sum_{i=1}^{K}(y_i-(t_k)_i)^2\\\\\n",
    "&=\\text{argmin}_k\\sum_{i=1}^{K}\\Bigl(y_i^2-2y_i(t_k)_i+(t_k)_i^2\\bigr)\\\\\n",
    "&=\\text{argmin}_k\\sum_{i=1}^{K}\\Bigl(-2y_i(t_k)_i+(t_k)_i^2\\bigr)\\\\\n",
    "\\end{align}\n",
    "Since $\\sum_{i=1}^{K}y_i^2$ is the same for all classes $k$. For each $k$, the sum $\\sum_{i=1}^{K}(t_k)_i^2=1$. Also $\\sum_{i=1}^{K}y_i(t_k)_i=y_k$. This means that  \n",
    "\\begin{align}\n",
    "\\text{argmin}_k||y-t_k||&=\\text{argmin}_k(-2y_k+1)\\\\\n",
    "&=\\text{argmin}_k(-2y_k)\\\\\n",
    "&=\\text{argmax}_k(y_k)\\\\\n",
    "\\end{align}\n",
    "Then, for any $K$-dimensional vector $y$, the $k$ for which $y_k$ is largest coincides with the $k$ for which $t_k$ is nearest to $y$."
   ]
  },
  {
   "cell_type": "markdown",
   "metadata": {},
   "source": [
    "## Ex. 2.2 (the oracle revealed)\n",
    "\n",
    "Show how to compute the Bayes decision boundary for the simulation example \n",
    "in Figure 2.5."
   ]
  },
  {
   "cell_type": "markdown",
   "metadata": {},
   "source": [
    "The simulation draws $10$ “blue” centering points $p_1, \\cdots, p_{10} \\in \\mathbb{R}^2$ from $N\\Biggl(\\begin{bmatrix}\n",
    "1\\\\\n",
    "0\\\\\n",
    "\\end{bmatrix}, I_2\\Biggr)$ and $10$ “orange” centering points $q_1, \\cdots, q_{10} \\in \\mathbb{R}^2$ from $N\\Biggl(\\begin{bmatrix}\n",
    "0\\\\\n",
    "1\\\\\n",
    "\\end{bmatrix}, I_2\\Biggr)$.  The multivariate Gaussian densities:\n",
    "\n",
    "$$f_X(\\mathbf x)=\\frac{1}{(2\\pi)^{p/2}|\\mathbf\\Sigma|^{1/2}}e^{-\\frac{1}{2}(\\mathbf x-\\boldsymbol \\mu)^T(\\mathbf\\Sigma)^{-1}(\\mathbf x-\\boldsymbol \\mu)}$$\n",
    "\n",
    "The $p\\times p$ matrix $\\mathbf \\Sigma$ is the variance–covariance matrix of $\\mathbf X$.  \n",
    "\n",
    "The covariance matrix $$\\mathbf \\Sigma=\\begin{bmatrix}\n",
    "\\sigma_{11}&\\sigma_{12}\\\\\n",
    "\\sigma_{12}&\\sigma_{22}\n",
    "\\end{bmatrix}\n",
    "$$  $$\\mathbf \\Sigma^{-1}=\\frac{1}{\\sigma_{11}\\sigma_{22}-\\sigma_{12}^2}\\begin{bmatrix}\n",
    "\\sigma_{22}&-\\sigma_{12}\\\\\n",
    "-\\sigma_{12}&\\sigma_{11}\n",
    "\\end{bmatrix}\n",
    "$$\n",
    "\n",
    "The formula for the Bayes decision boundary is given by equating posterior probabilities. We get an equation in the unknown $z \\in \\mathbb R^2$, giving a curve in the plane:  \n",
    "\\begin{equation}\n",
    "P(\\text{blue})\\exp(-\\sum_{i=1}^{10}\\lVert p_i-z\\lVert ^2/2)=P(\\text{orange)})\\exp(-\\sum_{j=1}^{10}\\lVert q_j-z\\lVert ^2/2)\n",
    "\\end{equation}  \n",
    "\n",
    "In this solution, the boundary is given as the equation of equality between the two probabilities, with the $p_i$ and $q_j$ constant and fixed by previously performed sampling. Each time one re-samples the $p_i$ and $q_j$ , one obtains a different Bayes decision boundary. Note that if the prior probabilities are equal (as they seem to be in this example) we have \n",
    "$$P(\\text{blue})=P(\\text{orange)})=\\frac{1}{2}$$\n",
    "and they also cancel."
   ]
  },
  {
   "cell_type": "markdown",
   "metadata": {},
   "source": [
    "## Ex. 2.3 (the median distance to the origin)\n",
    "Consider $N$ data points uniformly distributed in a $p$-dimensional unit ball centered at the origin. Suppose we consider a nearest-neighbor estimate at the origin. The median distance from the origin to the closest data point is given by the expression  \n",
    "$$d(p,N)=\\Bigl(1-\\frac{1}{2}^{1/N}\\Bigr)^{1/p}$$"
   ]
  },
  {
   "cell_type": "markdown",
   "metadata": {},
   "source": [
    "We derive the distribution function (CDF) for the Euclidean distance (denoted by $y$) from the origin to the closest point of $n$ points $x_i$ where each point $x_i$ is drawn uniformly from a $p$-dimensional unit ball centered at the origin. The distribution function of $y=\\lVert x_i\\rVert$ is the ratio of the volume of a ball of radius $y$ and the volume of a ball of radius one. This ratio is $y^p$ and so $F(y)=y^p$. The distribution function for $y$ is then $f(y)=F'(y)=py^{p-1}$. \n",
    "\n",
    "Given $N$ such vectors $\\{x_i\\}_{i=1}^N$ the distribution function for the smallest radius $Y_1$ (from all of them) is given by $$F_{Y_1}(y)=1-(1-F(y))^N=1-(1-y^p)^N$$\n",
    "The median distance for $Y_1$ is found by solving for $y$ in $$\\frac{1}{2}=F_{Y_1}(y)$$ This gives $$y=\\Bigl(1-\\frac{1}{2}^{1/N}\\Bigr)^{1/p}=d_{median}(p,N)$$.\n",
    "\n",
    "The density function for $Y_1$ is given by the derivative of the distribution function $F_{Y_1}(y)$:\n",
    "\n",
    "$$f_{Y_1}(y)=N(1-y^p)^{N-1}(py^{p-1})=pN(1-y^p)^{N-1}y^{p-1}$$\n",
    "\n",
    "Then the mean distance to the closest of these $N$ points is given by\n",
    "\n",
    "$$d_{\\text{mean}}(p,N)\\equiv \\int_{0}^{1}yf_{Y_1}(y)dy=pN\\int_{0}^{1}(1-y^p)^{N-1}y^pdy\\\\\n",
    "=N\\int_{0}^{1}(1-t)^{N-1}ydt\\quad(t=y^p)\\\\\n",
    "=N\\int_{0}^{1}(1-t)^{N-1}t^{1/p}dt\\\\\n",
    "=NB(N,\\frac{1}{p}+1)$$ \n",
    "\n",
    "The Beta function is:\n",
    "\n",
    "$$B(x,y)=\\int_{t=0}^{t=1}t^{(x-1)}(1-t)^{(y-1)}dt,\\quad (x>0 ;\\quad y>0)$$\n",
    "\n"
   ]
  },
  {
   "cell_type": "markdown",
   "metadata": {},
   "source": [
    "## Ex. 2.4 (projections a^T x are distributed as normal N(0, 1)) \n",
    "\n",
    "The edge effect problem discussed on page 23 is not peculiar to\n",
    "uniform sampling from bounded domains. Consider inputs drawn from a\n",
    "spherical multinormal distribution $X \\sim N(0, I_p)$. The squared distance\n",
    "from any sample point to the origin has a $\\chi^2_p$ distribution with mean $p$. Consider a prediction point $x_0$ drawn from this distribution, and let $$a = x_0/\\lVert x_0\\rVert$$ be an associated unit vector. Let $z_i = a^Tx_i$ be the projection of each of the training points on this direction. \n",
    "\n",
    "\n",
    "Show that the $z_i$ are distributed $N(0, 1)$ with expected squared distance\n",
    "from the origin $1$, while the target point has expected squared distance $p$\n",
    "from the origin.\n",
    "\n",
    "Hence for $p = 10$, a randomly drawn test point is about $3.1$ standard deviations from the origin, while all the training points are on average\n",
    "one standard deviation along direction $a$. So most prediction points see\n",
    "themselves as lying on the edge of the training set."
   ]
  },
  {
   "cell_type": "markdown",
   "metadata": {},
   "source": [
    "The main point is that $\\sum\\lVert x_i\\rVert^2$ is invariant under the orthogonal group. As a consequence the standard normal distribution exists on any finite dimensional inner product space (by fixing an orthonormal basis). Further, if $\\mathbb R^p$ is written as the orthogonal sum of two vector\n",
    "subspaces, then the product of standard normal distributions on each of the subspaces gives the standard normal distribution on $\\mathbb R^p$."
   ]
  },
  {
   "cell_type": "markdown",
   "metadata": {},
   "source": [
    "## Ex. 2.5 (the expected prediction error under least squares)\n",
    "(a) Derive equation (2.27). The last line makes use of (3.8) through a\n",
    "conditioning argument.\n",
    "\n",
    "(b) Derive equation (2.28), making use of the cyclic property of the trace\n",
    "operator $[\\text{trace}(AB) = \\text{trace}(BA)]$, and its linearity (which allows us to interchange the order of trace and expectation)."
   ]
  },
  {
   "cell_type": "markdown",
   "metadata": {},
   "source": [
    "(a): \n",
    "equation (2.27)\n",
    "\\begin{align}\n",
    "\\text{EPE}(x_0) &= \\text{E}_{y_0|x_0}\\text{E}_\\mathcal{T}\\left(y_0-\\hat{y}_0\\right)^2 \\\\\n",
    "&= \\text{E}_{y_0|x_0}\\text{E}_\\mathcal{T}\\Biggl([y_0-x_0^T\\beta]+[\\text{E}_\\mathcal{T}(\\hat{y}_0)-\\hat{y}_0]+[x_0^T\\beta-\\text{E}_\\mathcal{T}(\\hat{y}_0)]\\Biggr)^2 \\\\\n",
    "\\end{align}\n",
    "\n",
    "Since\n",
    "\\begin{equation}\n",
    "\\text{E}_{y_0|x_0}\\text{E}_\\mathcal{T}[y_0-x_0^T\\beta]=\\text{E}_{y_0|x_0}[y_0-x_0^T\\beta]\\text{E}_\\mathcal{T}=0\\text{E}_\\mathcal{T}=0\n",
    "\\end{equation}\n",
    "\n",
    "\\begin{equation}\n",
    "\\text{E}_{y_0|x_0}\\text{E}_\\mathcal{T}[y_0-x_0^T\\beta]^2=\\text{Var}(y_0|x_0)=\\sigma^2\n",
    "\\end{equation}\n",
    "And\n",
    "\\begin{equation}\n",
    "\\text{E}_{y_0|x_0}\\text{E}_\\mathcal{T}[\\text{E}_\\mathcal{T}(\\hat{y}_0)-\\hat{y}_0]=\\text{E}_{y_0|x_0}0=0\n",
    "\\end{equation}\n",
    "\n",
    "And since the expectation of the length $N$ vector $\\epsilon$ is zero.\n",
    "\n",
    "\\begin{equation}\n",
    "\\text{E}_\\mathcal{T}(\\hat{y}_0)-x_0^T\\beta=\\text{E}_\\mathcal{T}(x_0^T\\beta+(X(X^TX)^{-1}x_0)^T\\epsilon)-x_0^T\\beta\\\\\n",
    "=\\text{E}_\\mathcal{T}(X(X^TX)^{-1}x_0)^T\\epsilon=0\n",
    "\\end{equation}\n",
    "\n",
    "\\begin{equation}\n",
    "\\text{E}_{y_0|x_0}\\Biggl([y_0-x_0^T\\beta][\\text{E}_\\mathcal{T}(\\hat{y}_0)-\\hat{y}_0]\\Biggr)=[\\text{E}_\\mathcal{T}(\\hat{y}_0)-\\hat{y}_0]\\text{E}_{y_0|x_0}[y_0-x_0^T\\beta]=0\n",
    "\\end{equation}\n",
    "\n",
    "\n",
    "\\begin{align}\n",
    "\\text{EPE}(x_0) &= \\text{E}_{y_0|x_0}\\text{E}_\\mathcal{T}\\left(y_0-\\hat{y}_0\\right)^2 \\\\\n",
    "&= \\text{E}_{y_0|x_0}\\text{E}_\\mathcal{T}\\Biggl([y_0-x_0^T\\beta]+[\\text{E}_\\mathcal{T}(\\hat{y}_0)-\\hat{y}_0]+[x_0^T\\beta-\\text{E}_\\mathcal{T}(\\hat{y}_0)]\\Biggr)^2 \\\\\n",
    "&= \\text{Var}(y_0|x_0) + \\text{E}_{y_0|x_0}\\text{E}_\\mathcal{T} \\left(\\hat{y}_0 - \\text{E}_\\mathcal{T}\\hat{y}_0\\right)^2 \\\\\n",
    "&= \\text{Var}(y_0|x_0) + \\text{Var}_\\mathcal{T}(\\hat{y}_0) \\\\\n",
    "&= \\sigma^2 + \\text{E}_\\mathcal{T}x_0^T\\left(\\mathbf{X}^T\\mathbf{X}\\right)^{-1}x_0\\sigma^2.\n",
    "\\end{align}"
   ]
  },
  {
   "cell_type": "markdown",
   "metadata": {},
   "source": [
    "(b): \n",
    "\n",
    "equation (2.28)Note that\n",
    "1. An additional variance $\\sigma^2$ is incurred, since our target is not deterministic.\n",
    "2. There is no bias, and the variance depends on $x_0$.\n",
    "\n",
    "If\n",
    "* $N$ is large,\n",
    "* $\\mathcal{T}$ were selected at random, and\n",
    "* $\\text{E}(X)=0$,\n",
    "If\n",
    "* $N$ is large,\n",
    "* $\\mathcal{T}$ were selected at random, and\n",
    "* $\\text{E}(X)=0$,\n",
    "then $\\mathbf{X}^T\\mathbf{X}\\rightarrow N\\text{Cov}(X)$ and\n",
    "\n",
    "\\begin{align}\n",
    "\\text{E}_{x_0}\\text{EPE}(x_0) &\\sim \\text{E}_{x_0}x_0^T\\text{Cov}(X)^{-1}x_0\\sigma^2/N + \\sigma^2 \\\\\n",
    "&= \\text{E}_{x_0}\\Bigl[\\text{trace}(x_0^T\\text{Cov}(X)^{-1}x_0)\\Bigr]\\sigma^2/N + \\sigma^2 \\\\\n",
    "&= \\text{E}_{x_0}\\Bigl[\\text{trace}(\\text{Cov}(X)^{-1}x_0x_0^T)\\Bigr]\\sigma^2/N + \\sigma^2 \\\\\n",
    "&= \\Bigl[\\text{trace}(\\text{Cov}(X)^{-1}\\text{Cov}(x_0))\\Bigr]\\sigma^2/N + \\sigma^2 \\\\\n",
    "&= \\text{trace}\\left(\\text{Cov}(X)^{-1}\\text{Cov}(x_0)\\right)\\sigma^2/N + \\sigma^2 \\\\\n",
    "&= \\text{trace}(I_p)\\sigma^2/N + \\sigma^2 \\\\\n",
    "&= \\sigma^2(p/N)+\\sigma^2.\n",
    "\\end{align}\n",
    "\n",
    "The expected EPE increases linearly as a function of $p$, with slope $\\sigma^2/N$. If $N$ is large and/or $\\sigma^2$ is small, this growth is variance is negligible (0 in the deterministic case).\n"
   ]
  },
  {
   "cell_type": "markdown",
   "metadata": {},
   "source": [
    "## Ex. 2.6 (repeated measurements)\n",
    "\n",
    "Consider a regression problem with inputs $x_i$ and outputs $y_i$, and a\n",
    "parameterized model $f_\\theta(x)$ to be fit by least squares. Show that if there are observations with tied or identical values of $x$, then the fit can be obtained from a reduced weighted least squares problem."
   ]
  },
  {
   "cell_type": "markdown",
   "metadata": {},
   "source": [
    "To search for parameter $\\theta$ using least squares one seeks to minimize:\n",
    "$$\\text{RSS}(\\theta)=\\sum_{k=1}^{N}(y_k-f_{\\theta}(x_k))^2$$\n",
    "If there are repeated independent variables $x_i$ then this prescription is\n",
    "equivalent to a weighted least squares problem. \n",
    "\n",
    "Let $N_u$ be the number of unique inputs $x$, that is, the number of distinct inputs after discarding duplicates. Assume that if the $i^{th}$ unique $x$ value gives rise to $n_i$ potentially different $y$ values. With this notation we can write the RSS(θ) above as:\n",
    "$$\\begin{align}\n",
    "\\text{RSS}(\\theta)&=\\sum_{i=1}^{N_u}\\sum_{j=1}^{n_i}(y_{ij}-f_{\\theta}(x_i))^2\\\\\n",
    "&=\\sum_{i=1}^{N_u}\\sum_{j=1}^{n_i}(y_{ij}^2-2y_{ij}f_{\\theta}(x_i)+f_{\\theta}(x_i)^2)\\\\\n",
    "&=\\sum_{i=1}^{N_u}n_i\\Biggl(\\frac{1}{n_i}\\sum_{j=1}^{n_i}y_{ij}^2-2\\frac{1}{n_i}f_{\\theta}(x_i)\\sum_{j=1}^{n_i}y_{ij}+f_{\\theta}(x_i)^2\\Biggr)\n",
    "\\end{align}$$\n",
    "Let's define $\\bar{y}_i=\\frac{1}{n_i}\\sum_{j=1}^{n_i}y_{ij}$ which is the average of all responses $y$ resulting from the same input $x_i$.\n",
    "$$\\text{RSS}(\\theta)=\\sum_{i=1}^{N_u}n_i\\Biggl(\\frac{1}{n_i}\\sum_{j=1}^{n_i}y_{ij}^2-2\\frac{1}{n_i}f_{\\theta}(x_i)\\sum_{j=1}^{n_i}y_{ij}+f_{\\theta}(x_i)^2\\Biggr)\\\\\n",
    "=\\sum_{i=1}^{N_u}n_i\\Biggl(\\frac{1}{n_i}\\sum_{j=1}^{n_i}y_{ij}^2+\\bar{y}_i^2-\\bar{y}_i^2-2\\frac{1}{n_i}f_{\\theta}(x_i)\\sum_{j=1}^{n_i}y_{ij}+f_{\\theta}(x_i)^2\\Biggr)\\\\\n",
    "=\\sum_{i=1}^{N_u}n_i\\Biggl(\\frac{1}{n_i}\\sum_{j=1}^{n_i}y_{ij}^2+\\bar{y}_i^2-\\bar{y}_i^2-2f_{\\theta}(x_i)\\bar{y}_i+f_{\\theta}(x_i)^2\\Biggr)\\\\\n",
    "=\\sum_{i=1}^{N_u}n_i\\Biggl(\\frac{1}{n_i}\\sum_{j=1}^{n_i}y_{ij}^2-\\bar{y}_i^2+\\Bigl(\\bar{y}_i-f_{\\theta}(x_i)\\Bigr)^2\\Biggr)\\\\\n",
    "=\\sum_{i=1}^{N_u}n_i\\Bigl(\\bar{y}_i-f_{\\theta}(x_i)\\Bigr)^2+\\sum_{i=1}^{N_u}\\sum_{j=1}^{n_i}y_{ij}^2-\\sum_{i=1}^{N_u}n_i\\bar{y}_i^2$$\n",
    "\n",
    "Once the measurements are received the sample points $y$ are fixed and do not change. Thus the minimization of $\\text{RSS}(\\theta)$ is minimization of $$\\sum_{i=1}^{N_u}n_i\\Bigl(\\bar{y}_i-f_{\\theta}(x_i)\\Bigr)^2$$ which is a weighted least squares since each repeated input vector $x_i$ is\n",
    "to fit the value of $\\bar{y}_i$ (the average of output values) and each residual error is weighted by how many times the measurement of $x_i$ was taken. It is a reduced problem since the number of points we are working with is now $N_u < N$."
   ]
  },
  {
   "cell_type": "markdown",
   "metadata": {},
   "source": [
    "## Ex. 2.7 (forms for linear regression and k-nearest neighbor regression)\n",
    "\n",
    "Suppose we have a sample of $N$ pairs $x_i$, $y_i$ drawn i.i.d. (\n",
    "Independent and identically distributed) from the\n",
    "distribution characterized as follows:\n",
    "\n",
    "\n",
    "$$\\begin{align}\n",
    "&x_i\\sim h(x), \\text{ the design density}\\\\\n",
    "&y_i=f(x_i)+\\epsilon_i,  f \\text{ is the regression function}\\\\\n",
    "&\\epsilon_i\\sim(0,\\sigma^2) (\\text{mean zero, variance} \\sigma^2)\n",
    "\\end{align}$$\n",
    "\n",
    "We construct an estimator for $f$ linear in the $y_i$, \n",
    "$$\\hat{f}(x_0)=\\sum_{i=1}^{N}\\ell_i(x_0;X)y_i$$\n",
    "where the weights $\\ell_i(x_0;X)$ do not depend on the $y_i$, but do depend on the entire training sequence of $x_i$, denoted here by $X$.\n",
    "\n",
    "(a) Show that linear regression and $k$-nearest-neighbor regression are members\n",
    "of this class of estimators. Describe explicitly the weights $\\ell_i(x_0;X)$\n",
    "in each of these cases.\n",
    "\n",
    "(b) Decompose the conditional mean-squared error $$\\text{E}_{Y|X}(f(x_0)-\\hat{f}(x_0))^2$$ into a conditional squared bias and a conditional variance component. Like $X, Y$ represents the entire training sequence of $y_i$.\n",
    "\n",
    "(c) Decompose the (unconditional) mean-squared error $$\\text{E}_{Y,X}(f(x_0)-\\hat{f}(x_0))^2$$ into a squared bias and a variance component.\n",
    "\n",
    "(d) Establish a relationship between the squared biases and variances in\n",
    "the above two cases."
   ]
  },
  {
   "cell_type": "markdown",
   "metadata": {},
   "source": [
    "(a) In the case of simple linear regression where there is only\n",
    "one response $y$ and one predictor $x$. Then the standard definitions of $y$ and $X$ state that $$y^T=(y_1,\\cdots,y_n)$$ and $$X^T=\\begin{bmatrix}\n",
    "1&\\cdots&1\\\\\n",
    "x_1&\\cdots&x_n\n",
    "\\end{bmatrix}$$\n",
    "\n",
    "For linear regression we have $$\\hat{\\beta}=(X^TX)^{-1}X^Ty$$ and set $$\\hat{f}(x_0)=\\begin{bmatrix}\n",
    "1 & x_0\n",
    "\\end{bmatrix}\\hat{\\beta}=\\begin{bmatrix}\n",
    "1 & x_0\n",
    "\\end{bmatrix}(X^TX)^{-1}X^Ty$$ Then for $$\\hat{f}(x_0)=\\sum_{i=1}^{N}\\ell_i(x_0;X)y_i$$ the weight\n",
    "$$\\ell_i(x_0;X)=\\begin{bmatrix}\n",
    "1 & x_0\n",
    "\\end{bmatrix}(X^TX)^{-1}\\begin{bmatrix}\n",
    "1 \\\\\n",
    "x_i\n",
    "\\end{bmatrix}$$ for each $i$ with $1 \\leq i \\leq n$."
   ]
  },
  {
   "cell_type": "markdown",
   "metadata": {},
   "source": [
    "(b) Decompose the conditional mean-squared error $$\\text{E}_{Y|X}(f(x_0)-\\hat{f}(x_0))^2$$ into a conditional squared bias and a conditional variance component. Like $X, Y$ represents the entire training sequence of $y_i$.\n",
    "\n",
    "Here $X$ is fixed, and $Y$ varies. Also $x_0$ and $f(x_0)$ are fixed. So the conditional mean-squared error \n",
    "$$\\begin{align}\n",
    "\\text{E}_{Y|X}\\Bigl(f(x_0)-\\hat{f}(x_0)\\Bigr)^2&=(f(x_0))^2-2f(x_0)\\text{E}_{Y|X}\\Bigl(\\hat{f}(x_0)\\Bigr)+\\text{E}_{Y|X}\\Bigl((\\hat{f}(x_0))^2\\Bigr)\\\\\n",
    "&=\\Bigl(f(x_0)-\\text{E}_{Y|X}\\Bigl(\\hat{f}(x_0)\\Bigr)\\Bigr)^2-\\Bigl[\\text{E}_{Y|X}\\Bigl(\\hat{f}(x_0)\\Bigr)\\Bigr]^2+\\text{E}_{Y|X}\\Bigl((\\hat{f}(x_0))^2\\Bigr)\\\\\n",
    "&=(\\text{bias})^2+\\text{Var}(\\hat{f}(x_0))\n",
    "\\end{align}$$"
   ]
  },
  {
   "cell_type": "markdown",
   "metadata": {},
   "source": [
    "(c) Decompose the (unconditional) mean-squared error $$\\text{E}_{Y,X}(f(x_0)-\\hat{f}(x_0))^2$$ into a squared bias and a variance component.\n",
    "\n",
    "$x_0$ and $f(x_0)$ are constant.\n",
    "$$\\begin{align}\n",
    "\\text{E}_{Y,X}(f(x_0)-\\hat{f}(x_0))^2&=f(x_0)^2-2f(x_0)\\text{E}_{Y,X}\\hat{f}(x_0)+\\text{E}_{Y,X}\\Bigl((\\hat{f}(x_0))^2\\Bigr)\\\\\n",
    "&=\\Bigl(f(x_0)-\\text{E}_{Y,X}\\hat{f}(x_0)\\Bigr)^2+\\text{E}_{Y,X}\\Bigl((\\hat{f}(x_0))^2\\Bigr)-\\Bigl(\\text{E}_{Y,X}\\hat{f}(x_0)\\Bigr)^2\\\\\n",
    "&=(\\text{bias})^2+\\text{Var}(\\hat{f}(x_0))\n",
    "\\end{align}$$"
   ]
  },
  {
   "cell_type": "markdown",
   "metadata": {},
   "source": [
    "## Ex. 2.8 (classifying 2’s and 3’s)\n",
    "\n",
    "Compare the classification performance of linear regression and $k$–\n",
    "nearest neighbor classification on the *zipcode data*. In particular, consider\n",
    "only the 2’s and 3’s, and $k = 1, 3, 5, 7$ and $15$. Show both the training and\n",
    "test error for each choice. The zipcode data are available from the book\n",
    "website www-stat.stanford.edu/ElemStatLearn."
   ]
  },
  {
   "cell_type": "code",
   "execution_count": 8,
   "metadata": {},
   "outputs": [
    {
     "name": "stdout",
     "output_type": "stream",
     "text": [
      "The rpy2.ipython extension is already loaded. To reload it, use:\n",
      "  %reload_ext rpy2.ipython\n"
     ]
    }
   ],
   "source": [
    "%load_ext rpy2.ipython"
   ]
  },
  {
   "cell_type": "code",
   "execution_count": 10,
   "metadata": {},
   "outputs": [],
   "source": [
    "%%R\n",
    "#Reading the train and test files for independent and dependent variables\n",
    "#Train file as input\n",
    "X <- as.matrix(read.table(gzfile(\"./zipcode/zip.train.gz\")))\n",
    "y2or3 <- which(X[, 1] == 2 | X[, 1] == 3)\n",
    "X.train <- X[y2or3, -1]\n",
    "y.train <- X[y2or3, 1] == 3\n",
    "\n",
    "#Test file as input\n",
    "X <- as.matrix(read.table(gzfile(\"./zipcode/zip.test.gz\")))\n",
    "y2or3 <- which(X[, 1] == 2 | X[, 1] == 3)\n",
    "X.test <- X[y2or3, -1]\n",
    "y.test <- X[y2or3, 1] == 3"
   ]
  },
  {
   "cell_type": "markdown",
   "metadata": {},
   "source": [
    "## Ex. 2.9 (the average training error is smaller than the testing error)\n",
    "\n",
    "Consider a linear regression model with $p$ parameters, fit by least\n",
    "squares to a set of training data $(x_1, y_1), \\cdots , (x_N, y_N)$ drawn at random from a population. Let $\\hat{\\beta}$ be the least squares estimate. Suppose we have some test data $(\\tilde{x}_1, \\tilde{y}_1), \\cdots , (\\tilde{x}_M, \\tilde{y}_M)$ drawn at random from the same population as the training data. If $$R_{tr}(\\beta) = \\frac{1}{N}\\sum_{1}^{N}(y_i-\\beta^Tx_i)^2$$ and $$R_{te}(\\beta) = \\frac{1}{M}\\sum_{1}^{M}(\\tilde{y}_i-\\beta^T\\tilde{x}_i)^2$$\n",
    "prove that $$E[R_{tr}(\\hat{\\beta})]\\leq E[R_{te}(\\hat{\\beta})]$$\n",
    "where the expectations are over all that is random in each expression."
   ]
  },
  {
   "cell_type": "markdown",
   "metadata": {},
   "source": [
    "The expectation of the test term $$\\frac{1}{M}\\sum(\\tilde{y}_i-\\hat{\\beta}^Tx_i)^2$$ is equal to the expectation of $$(\\tilde{y}_1-\\hat{\\beta}^Tx_1)^2$$, and is therefore independent of $M$. We take $M = N$, and then decrease the test expression on replacing $\\hat{\\beta}$ with a value of $\\beta$ that minimizes the expression. Now the expectations of the two terms are equal. This proves the result. Note that we may have to use the Moore-Penrose pseudo-inverse of $X^TX$, if the rank of $X$ is less than $p$. This is not a continuous function of $X$, but it is measurable, which is all we need."
   ]
  },
  {
   "cell_type": "markdown",
   "metadata": {},
   "source": [
    "# References\n",
    "@book{friedman2001elements,\n",
    "  title={The elements of statistical learning},\n",
    "  author={Friedman, Jerome and Hastie, Trevor and Tibshirani, Robert and others},\n",
    "  volume={1},\n",
    "  number={10},\n",
    "  year={2001},\n",
    "  publisher={Springer series in statistics New York}\n",
    "}\n"
   ]
  }
 ],
 "metadata": {
  "kernelspec": {
   "display_name": "Python 3",
   "language": "python",
   "name": "python3"
  },
  "language_info": {
   "codemirror_mode": {
    "name": "ipython",
    "version": 3
   },
   "file_extension": ".py",
   "mimetype": "text/x-python",
   "name": "python",
   "nbconvert_exporter": "python",
   "pygments_lexer": "ipython3",
   "version": "3.8.5"
  }
 },
 "nbformat": 4,
 "nbformat_minor": 4
}
